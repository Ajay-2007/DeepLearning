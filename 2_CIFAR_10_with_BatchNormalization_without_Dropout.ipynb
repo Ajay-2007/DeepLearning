{
  "nbformat": 4,
  "nbformat_minor": 0,
  "metadata": {
    "colab": {
      "name": "2.CIFAR_10_with_BatchNormalization_without_Dropout.ipynb",
      "provenance": [],
      "collapsed_sections": []
    },
    "kernelspec": {
      "name": "python3",
      "display_name": "Python 3"
    },
    "accelerator": "GPU"
  },
  "cells": [
    {
      "cell_type": "code",
      "metadata": {
        "id": "JdfVBe78-6aW",
        "colab_type": "code",
        "colab": {}
      },
      "source": [
        "def warn(*args, **kwargs):\n",
        "    pass\n",
        "import warnings\n",
        "warnings.warn = warn"
      ],
      "execution_count": 0,
      "outputs": []
    },
    {
      "cell_type": "code",
      "metadata": {
        "id": "uT6dUewg9UqP",
        "colab_type": "code",
        "colab": {}
      },
      "source": [
        "# import libraries\n",
        "\n",
        "import keras\n",
        "from keras.datasets import cifar10\n",
        "from keras.preprocessing.image import ImageDataGenerator\n",
        "from keras.models import Sequential\n",
        "from keras.layers import Dense, Dropout, Activation, Flatten\n",
        "from keras.layers.normalization import BatchNormalization\n",
        "from keras.layers import Conv2D, MaxPooling2D\n",
        "import numpy as np\n",
        "import os\n",
        "import matplotlib.pyplot as plt\n",
        "\n",
        "%matplotlib inline"
      ],
      "execution_count": 0,
      "outputs": []
    },
    {
      "cell_type": "code",
      "metadata": {
        "id": "3c-ZlCpZ9gsE",
        "colab_type": "code",
        "colab": {}
      },
      "source": [
        ""
      ],
      "execution_count": 0,
      "outputs": []
    },
    {
      "cell_type": "code",
      "metadata": {
        "id": "pcGQrux294Yk",
        "colab_type": "code",
        "colab": {}
      },
      "source": [
        "# batch, classes, epochs\n",
        "\n",
        "batch_size = 32\n",
        "num_classes = 10\n",
        "epochs = 50"
      ],
      "execution_count": 0,
      "outputs": []
    },
    {
      "cell_type": "code",
      "metadata": {
        "id": "uSYXa_zy-Az6",
        "colab_type": "code",
        "outputId": "8ea822eb-73a5-40f6-a92e-d7bddaeebc1c",
        "colab": {
          "base_uri": "https://localhost:8080/",
          "height": 68
        }
      },
      "source": [
        "# The data, split between train and test sets:\n",
        "(x_train, y_train), (x_test, y_test) = cifar10.load_data()\n",
        "print('x_train shape: ', x_train.shape)\n",
        "print(x_train.shape[0], 'train samples')\n",
        "print(x_test.shape[0], 'test samples')"
      ],
      "execution_count": 22,
      "outputs": [
        {
          "output_type": "stream",
          "text": [
            "x_train shape:  (50000, 32, 32, 3)\n",
            "50000 train samples\n",
            "10000 test samples\n"
          ],
          "name": "stdout"
        }
      ]
    },
    {
      "cell_type": "code",
      "metadata": {
        "id": "7NGUxRGr-kry",
        "colab_type": "code",
        "outputId": "c8d8bb9d-0756-4f3b-910c-a101a266a3a5",
        "colab": {
          "base_uri": "https://localhost:8080/",
          "height": 213
        }
      },
      "source": [
        "# plotting some random 10 images\n",
        "\n",
        "class_names = ['airplane',\n",
        "               'automobile',\n",
        "               'bird',\n",
        "               'cat',\n",
        "               'deer',\n",
        "               'dog',\n",
        "               'frog',\n",
        "               'horse',\n",
        "               'ship',\n",
        "               'truck']\n",
        "               \n",
        "fig = plt.figure(figsize=(8, 3))\n",
        "for i in range(num_classes):\n",
        "  ax = fig.add_subplot(2, 5, 1 + i, xticks=[], yticks=[])\n",
        "  idx = np.where(y_train[:] == i)[0]\n",
        "  feature_idx = x_train[idx, ::]\n",
        "  img_num = np.random.randint(feature_idx.shape[0])\n",
        "  im = (feature_idx[img_num, ::])\n",
        "  ax.set_title(class_names[i])\n",
        "  plt.imshow(im)\n",
        "plt.show()"
      ],
      "execution_count": 23,
      "outputs": [
        {
          "output_type": "display_data",
          "data": {
            "image/png": "[encoded data removed]",
            "text/plain": [
              "<Figure size 576x216 with 10 Axes>"
            ]
          },
          "metadata": {
            "tags": []
          }
        }
      ]
    },
    {
      "cell_type": "code",
      "metadata": {
        "id": "ta8gmjb0_0BS",
        "colab_type": "code",
        "colab": {}
      },
      "source": [
        "# Convert class vectors to binary class metrices.\n",
        "y_train = keras.utils.to_categorical(y_train, num_classes)\n",
        "y_test = keras.utils.to_categorical(y_test, num_classes) "
      ],
      "execution_count": 0,
      "outputs": []
    },
    {
      "cell_type": "code",
      "metadata": {
        "id": "XHhL3UhiAikb",
        "colab_type": "code",
        "colab": {}
      },
      "source": [
        "# model architecture\n",
        "model = Sequential()\n",
        "\n",
        "model.add(Conv2D(32, (3, 3), padding='same', input_shape=x_train.shape[1:]))\n",
        "model.add(Activation('relu'))\n",
        "model.add(BatchNormalization())\n",
        "model.add(Conv2D(32, (3, 3)))\n",
        "model.add(Activation('relu'))\n",
        "model.add(BatchNormalization())\n",
        "model.add(MaxPooling2D(pool_size = (2, 2)))\n",
        "# model.add(Dropout(0.25))\n",
        "\n",
        "model.add(Conv2D(64, (3, 3), padding='same'))\n",
        "model.add(Activation('relu'))\n",
        "model.add(BatchNormalization())\n",
        "model.add(Conv2D(64, (3, 3)))\n",
        "model.add(Activation('relu'))\n",
        "model.add(BatchNormalization())\n",
        "model.add(MaxPooling2D(pool_size=(2, 2)))\n",
        "model.add(Dropout(0.25))\n",
        "\n",
        "model.add(Flatten())\n",
        "model.add(Dense(512))\n",
        "model.add(Activation('relu'))\n",
        "model.add(Dropout(0.5))\n",
        "model.add(Dense(num_classes))\n",
        "model.add(Activation('softmax'))"
      ],
      "execution_count": 0,
      "outputs": []
    },
    {
      "cell_type": "code",
      "metadata": {
        "id": "hjX0KNvoB1l-",
        "colab_type": "code",
        "outputId": "34627300-7edc-47a5-ff4c-a4a5ea319d5d",
        "colab": {
          "base_uri": "https://localhost:8080/",
          "height": 867
        }
      },
      "source": [
        "#summary\n",
        "model.summary()"
      ],
      "execution_count": 26,
      "outputs": [
        {
          "output_type": "stream",
          "text": [
            "Model: \"sequential_4\"\n",
            "_________________________________________________________________\n",
            "Layer (type)                 Output Shape              Param #   \n",
            "=================================================================\n",
            "conv2d_7 (Conv2D)            (None, 32, 32, 32)        896       \n",
            "_________________________________________________________________\n",
            "activation_9 (Activation)    (None, 32, 32, 32)        0         \n",
            "_________________________________________________________________\n",
            "batch_normalization_5 (Batch (None, 32, 32, 32)        128       \n",
            "_________________________________________________________________\n",
            "conv2d_8 (Conv2D)            (None, 30, 30, 32)        9248      \n",
            "_________________________________________________________________\n",
            "activation_10 (Activation)   (None, 30, 30, 32)        0         \n",
            "_________________________________________________________________\n",
            "batch_normalization_6 (Batch (None, 30, 30, 32)        128       \n",
            "_________________________________________________________________\n",
            "max_pooling2d_3 (MaxPooling2 (None, 15, 15, 32)        0         \n",
            "_________________________________________________________________\n",
            "conv2d_9 (Conv2D)            (None, 15, 15, 64)        18496     \n",
            "_________________________________________________________________\n",
            "activation_11 (Activation)   (None, 15, 15, 64)        0         \n",
            "_________________________________________________________________\n",
            "batch_normalization_7 (Batch (None, 15, 15, 64)        256       \n",
            "_________________________________________________________________\n",
            "conv2d_10 (Conv2D)           (None, 13, 13, 64)        36928     \n",
            "_________________________________________________________________\n",
            "activation_12 (Activation)   (None, 13, 13, 64)        0         \n",
            "_________________________________________________________________\n",
            "batch_normalization_8 (Batch (None, 13, 13, 64)        256       \n",
            "_________________________________________________________________\n",
            "max_pooling2d_4 (MaxPooling2 (None, 6, 6, 64)          0         \n",
            "_________________________________________________________________\n",
            "dropout_3 (Dropout)          (None, 6, 6, 64)          0         \n",
            "_________________________________________________________________\n",
            "flatten_2 (Flatten)          (None, 2304)              0         \n",
            "_________________________________________________________________\n",
            "dense_3 (Dense)              (None, 512)               1180160   \n",
            "_________________________________________________________________\n",
            "activation_13 (Activation)   (None, 512)               0         \n",
            "_________________________________________________________________\n",
            "dropout_4 (Dropout)          (None, 512)               0         \n",
            "_________________________________________________________________\n",
            "dense_4 (Dense)              (None, 10)                5130      \n",
            "_________________________________________________________________\n",
            "activation_14 (Activation)   (None, 10)                0         \n",
            "=================================================================\n",
            "Total params: 1,251,626\n",
            "Trainable params: 1,251,242\n",
            "Non-trainable params: 384\n",
            "_________________________________________________________________\n"
          ],
          "name": "stdout"
        }
      ]
    },
    {
      "cell_type": "code",
      "metadata": {
        "id": "4kRqKZWyCAml",
        "colab_type": "code",
        "outputId": "5090245f-f120-4826-9fee-10903bf45c17",
        "colab": {
          "base_uri": "https://localhost:8080/",
          "height": 105
        }
      },
      "source": [
        "# compile the model\n",
        "model.compile(loss = 'categorical_crossentropy',\n",
        "              optimizer = 'sgd',\n",
        "              metrics=['accuracy'])\n",
        "\n",
        "# convert to float, normalize the data\n",
        "x_train = x_train.astype('float32')\n",
        "x_test = x_test.astype('float32')\n",
        "x_train /= 255\n",
        "x_test /= 255"
      ],
      "execution_count": 27,
      "outputs": [
        {
          "output_type": "stream",
          "text": [
            "WARNING:tensorflow:From /usr/local/lib/python3.6/dist-packages/keras/optimizers.py:793: The name tf.train.Optimizer is deprecated. Please use tf.compat.v1.train.Optimizer instead.\n",
            "\n",
            "WARNING:tensorflow:From /usr/local/lib/python3.6/dist-packages/keras/backend/tensorflow_backend.py:3576: The name tf.log is deprecated. Please use tf.math.log instead.\n",
            "\n"
          ],
          "name": "stdout"
        }
      ]
    },
    {
      "cell_type": "code",
      "metadata": {
        "id": "ZlJzuHlzClN1",
        "colab_type": "code",
        "outputId": "72faca5a-3495-4c33-9e5e-e679da2ffc3b",
        "colab": {
          "base_uri": "https://localhost:8080/",
          "height": 1000
        }
      },
      "source": [
        "# train\n",
        "model.fit(x_train, y_train, \n",
        "          batch_size=batch_size,\n",
        "          epochs=epochs,\n",
        "          validation_data=(x_test, y_test),\n",
        "          shuffle=True)"
      ],
      "execution_count": 28,
      "outputs": [
        {
          "output_type": "stream",
          "text": [
            "WARNING:tensorflow:From /usr/local/lib/python3.6/dist-packages/tensorflow_core/python/ops/math_grad.py:1424: where (from tensorflow.python.ops.array_ops) is deprecated and will be removed in a future version.\n",
            "Instructions for updating:\n",
            "Use tf.where in 2.0, which has the same broadcast rule as np.where\n",
            "WARNING:tensorflow:From /usr/local/lib/python3.6/dist-packages/keras/backend/tensorflow_backend.py:1033: The name tf.assign_add is deprecated. Please use tf.compat.v1.assign_add instead.\n",
            "\n",
            "WARNING:tensorflow:From /usr/local/lib/python3.6/dist-packages/keras/backend/tensorflow_backend.py:1020: The name tf.assign is deprecated. Please use tf.compat.v1.assign instead.\n",
            "\n",
            "Train on 50000 samples, validate on 10000 samples\n",
            "Epoch 1/50\n",
            "50000/50000 [==============================] - 19s 385us/step - loss: 1.6752 - acc: 0.4177 - val_loss: 1.7190 - val_acc: 0.4187\n",
            "Epoch 2/50\n",
            "50000/50000 [==============================] - 12s 243us/step - loss: 1.2364 - acc: 0.5589 - val_loss: 1.1555 - val_acc: 0.5904\n",
            "Epoch 3/50\n",
            "50000/50000 [==============================] - 12s 245us/step - loss: 1.0805 - acc: 0.6154 - val_loss: 0.9523 - val_acc: 0.6652\n",
            "Epoch 4/50\n",
            "50000/50000 [==============================] - 12s 246us/step - loss: 0.9742 - acc: 0.6538 - val_loss: 0.9490 - val_acc: 0.6710\n",
            "Epoch 5/50\n",
            "50000/50000 [==============================] - 13s 252us/step - loss: 0.8988 - acc: 0.6810 - val_loss: 0.8703 - val_acc: 0.6888\n",
            "Epoch 6/50\n",
            "50000/50000 [==============================] - 12s 243us/step - loss: 0.8388 - acc: 0.7031 - val_loss: 0.7961 - val_acc: 0.7169\n",
            "Epoch 7/50\n",
            "50000/50000 [==============================] - 12s 245us/step - loss: 0.7907 - acc: 0.7177 - val_loss: 0.7711 - val_acc: 0.7252\n",
            "Epoch 8/50\n",
            "50000/50000 [==============================] - 12s 248us/step - loss: 0.7428 - acc: 0.7377 - val_loss: 0.7408 - val_acc: 0.7412\n",
            "Epoch 9/50\n",
            "50000/50000 [==============================] - 12s 248us/step - loss: 0.7126 - acc: 0.7466 - val_loss: 0.7035 - val_acc: 0.7537\n",
            "Epoch 10/50\n",
            "50000/50000 [==============================] - 12s 247us/step - loss: 0.6778 - acc: 0.7611 - val_loss: 0.7172 - val_acc: 0.7459\n",
            "Epoch 11/50\n",
            "50000/50000 [==============================] - 12s 244us/step - loss: 0.6481 - acc: 0.7698 - val_loss: 0.6657 - val_acc: 0.7653\n",
            "Epoch 12/50\n",
            "50000/50000 [==============================] - 12s 244us/step - loss: 0.6182 - acc: 0.7811 - val_loss: 0.6450 - val_acc: 0.7733\n",
            "Epoch 13/50\n",
            "50000/50000 [==============================] - 12s 247us/step - loss: 0.5995 - acc: 0.7876 - val_loss: 0.6581 - val_acc: 0.7745\n",
            "Epoch 14/50\n",
            "50000/50000 [==============================] - 12s 246us/step - loss: 0.5707 - acc: 0.7968 - val_loss: 0.6240 - val_acc: 0.7814\n",
            "Epoch 15/50\n",
            "50000/50000 [==============================] - 12s 245us/step - loss: 0.5526 - acc: 0.8032 - val_loss: 0.6142 - val_acc: 0.7845\n",
            "Epoch 16/50\n",
            "50000/50000 [==============================] - 12s 247us/step - loss: 0.5348 - acc: 0.8090 - val_loss: 0.6401 - val_acc: 0.7759\n",
            "Epoch 17/50\n",
            "50000/50000 [==============================] - 12s 246us/step - loss: 0.5113 - acc: 0.8172 - val_loss: 0.6430 - val_acc: 0.7786\n",
            "Epoch 18/50\n",
            "50000/50000 [==============================] - 12s 240us/step - loss: 0.4953 - acc: 0.8237 - val_loss: 0.6310 - val_acc: 0.7851\n",
            "Epoch 19/50\n",
            "50000/50000 [==============================] - 12s 241us/step - loss: 0.4759 - acc: 0.8321 - val_loss: 0.6417 - val_acc: 0.7825\n",
            "Epoch 20/50\n",
            "50000/50000 [==============================] - 12s 247us/step - loss: 0.4573 - acc: 0.8365 - val_loss: 0.6086 - val_acc: 0.7945\n",
            "Epoch 21/50\n",
            "50000/50000 [==============================] - 12s 244us/step - loss: 0.4464 - acc: 0.8391 - val_loss: 0.6911 - val_acc: 0.7725\n",
            "Epoch 22/50\n",
            "50000/50000 [==============================] - 12s 246us/step - loss: 0.4245 - acc: 0.8463 - val_loss: 0.6144 - val_acc: 0.7922\n",
            "Epoch 23/50\n",
            "50000/50000 [==============================] - 12s 245us/step - loss: 0.4106 - acc: 0.8525 - val_loss: 0.5885 - val_acc: 0.7992\n",
            "Epoch 24/50\n",
            "50000/50000 [==============================] - 12s 241us/step - loss: 0.3919 - acc: 0.8579 - val_loss: 0.6538 - val_acc: 0.7762\n",
            "Epoch 25/50\n",
            "50000/50000 [==============================] - 12s 246us/step - loss: 0.3843 - acc: 0.8616 - val_loss: 0.5993 - val_acc: 0.7993\n",
            "Epoch 26/50\n",
            "50000/50000 [==============================] - 12s 242us/step - loss: 0.3673 - acc: 0.8682 - val_loss: 0.5692 - val_acc: 0.8085\n",
            "Epoch 27/50\n",
            "50000/50000 [==============================] - 12s 250us/step - loss: 0.3546 - acc: 0.8732 - val_loss: 0.5965 - val_acc: 0.8041\n",
            "Epoch 28/50\n",
            "50000/50000 [==============================] - 12s 246us/step - loss: 0.3455 - acc: 0.8756 - val_loss: 0.6264 - val_acc: 0.7973\n",
            "Epoch 29/50\n",
            "50000/50000 [==============================] - 12s 246us/step - loss: 0.3358 - acc: 0.8787 - val_loss: 0.5824 - val_acc: 0.8078\n",
            "Epoch 30/50\n",
            "50000/50000 [==============================] - 13s 253us/step - loss: 0.3238 - acc: 0.8832 - val_loss: 0.5776 - val_acc: 0.8106\n",
            "Epoch 31/50\n",
            "50000/50000 [==============================] - 12s 243us/step - loss: 0.3123 - acc: 0.8865 - val_loss: 0.5905 - val_acc: 0.8131\n",
            "Epoch 32/50\n",
            "50000/50000 [==============================] - 12s 246us/step - loss: 0.3002 - acc: 0.8914 - val_loss: 0.5724 - val_acc: 0.8179\n",
            "Epoch 33/50\n",
            "50000/50000 [==============================] - 12s 242us/step - loss: 0.2910 - acc: 0.8940 - val_loss: 0.5799 - val_acc: 0.8131\n",
            "Epoch 34/50\n",
            "50000/50000 [==============================] - 12s 242us/step - loss: 0.2799 - acc: 0.8988 - val_loss: 0.5822 - val_acc: 0.8120\n",
            "Epoch 35/50\n",
            "50000/50000 [==============================] - 12s 242us/step - loss: 0.2729 - acc: 0.9020 - val_loss: 0.5815 - val_acc: 0.8131\n",
            "Epoch 36/50\n",
            "50000/50000 [==============================] - 12s 245us/step - loss: 0.2621 - acc: 0.9051 - val_loss: 0.6058 - val_acc: 0.8050\n",
            "Epoch 37/50\n",
            "50000/50000 [==============================] - 12s 244us/step - loss: 0.2630 - acc: 0.9043 - val_loss: 0.5871 - val_acc: 0.8118\n",
            "Epoch 38/50\n",
            "50000/50000 [==============================] - 12s 244us/step - loss: 0.2488 - acc: 0.9107 - val_loss: 0.6010 - val_acc: 0.8120\n",
            "Epoch 39/50\n",
            "50000/50000 [==============================] - 12s 245us/step - loss: 0.2344 - acc: 0.9149 - val_loss: 0.6000 - val_acc: 0.8152\n",
            "Epoch 40/50\n",
            "50000/50000 [==============================] - 12s 246us/step - loss: 0.2346 - acc: 0.9159 - val_loss: 0.6807 - val_acc: 0.8107\n",
            "Epoch 41/50\n",
            "50000/50000 [==============================] - 12s 247us/step - loss: 0.2281 - acc: 0.9172 - val_loss: 0.6552 - val_acc: 0.8064\n",
            "Epoch 42/50\n",
            "50000/50000 [==============================] - 12s 245us/step - loss: 0.2236 - acc: 0.9193 - val_loss: 0.6465 - val_acc: 0.8087\n",
            "Epoch 43/50\n",
            "50000/50000 [==============================] - 12s 243us/step - loss: 0.2163 - acc: 0.9221 - val_loss: 0.6394 - val_acc: 0.8147\n",
            "Epoch 44/50\n",
            "50000/50000 [==============================] - 12s 244us/step - loss: 0.2079 - acc: 0.9247 - val_loss: 0.7028 - val_acc: 0.8055\n",
            "Epoch 45/50\n",
            "50000/50000 [==============================] - 12s 246us/step - loss: 0.2072 - acc: 0.9254 - val_loss: 0.6137 - val_acc: 0.8121\n",
            "Epoch 46/50\n",
            "50000/50000 [==============================] - 12s 243us/step - loss: 0.1991 - acc: 0.9282 - val_loss: 0.6392 - val_acc: 0.8137\n",
            "Epoch 47/50\n",
            "50000/50000 [==============================] - 12s 247us/step - loss: 0.1978 - acc: 0.9299 - val_loss: 0.6167 - val_acc: 0.8167\n",
            "Epoch 48/50\n",
            "50000/50000 [==============================] - 12s 249us/step - loss: 0.1871 - acc: 0.9337 - val_loss: 0.6165 - val_acc: 0.8131\n",
            "Epoch 49/50\n",
            "50000/50000 [==============================] - 12s 247us/step - loss: 0.1816 - acc: 0.9347 - val_loss: 0.6123 - val_acc: 0.8174\n",
            "Epoch 50/50\n",
            "50000/50000 [==============================] - 12s 247us/step - loss: 0.1753 - acc: 0.9363 - val_loss: 0.6499 - val_acc: 0.8202\n"
          ],
          "name": "stdout"
        },
        {
          "output_type": "execute_result",
          "data": {
            "text/plain": [
              "<keras.callbacks.History at 0x7f8af01785c0>"
            ]
          },
          "metadata": {
            "tags": []
          },
          "execution_count": 28
        }
      ]
    },
    {
      "cell_type": "code",
      "metadata": {
        "id": "zaiCKCcMCypa",
        "colab_type": "code",
        "colab": {}
      },
      "source": [
        ""
      ],
      "execution_count": 0,
      "outputs": []
    },
    {
      "cell_type": "markdown",
      "metadata": {
        "id": "Q2usf7C1C_6N",
        "colab_type": "text"
      },
      "source": [
        "Result : After 50 epochs, the difference between training and validation accuracy is low but the training is slow as compared to the model with batch normalization.  "
      ]
    }
  ]
}