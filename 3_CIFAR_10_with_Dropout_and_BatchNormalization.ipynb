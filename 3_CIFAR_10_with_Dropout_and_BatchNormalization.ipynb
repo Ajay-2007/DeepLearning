{
  "nbformat": 4,
  "nbformat_minor": 0,
  "metadata": {
    "colab": {
      "name": "3.CIFAR_10_with_Dropout_and_BatchNormalization.ipynb",
      "provenance": [],
      "collapsed_sections": []
    },
    "kernelspec": {
      "name": "python3",
      "display_name": "Python 3"
    },
    "accelerator": "GPU"
  },
  "cells": [
    {
      "cell_type": "code",
      "metadata": {
        "id": "yqH9UNgEAQke",
        "colab_type": "code",
        "colab": {}
      },
      "source": [
        "def warn(*args, **kwargs):\n",
        "    pass\n",
        "import warnings\n",
        "warnings.warn = warn"
      ],
      "execution_count": 0,
      "outputs": []
    },
    {
      "cell_type": "code",
      "metadata": {
        "id": "uT6dUewg9UqP",
        "colab_type": "code",
        "outputId": "21dcfc16-5f02-4c7e-b848-4ddab42f5106",
        "colab": {
          "base_uri": "https://localhost:8080/",
          "height": 80
        }
      },
      "source": [
        "# import libraries\n",
        "\n",
        "import keras\n",
        "from keras.datasets import cifar10\n",
        "from keras.preprocessing.image import ImageDataGenerator\n",
        "from keras.models import Sequential\n",
        "from keras.layers import Dense, Dropout, Activation, Flatten\n",
        "from keras.layers.normalization import BatchNormalization\n",
        "from keras.layers import Conv2D, MaxPooling2D\n",
        "import numpy as np\n",
        "import os\n",
        "import matplotlib.pyplot as plt\n",
        "\n",
        "%matplotlib inline"
      ],
      "execution_count": 2,
      "outputs": [
        {
          "output_type": "stream",
          "text": [
            "Using TensorFlow backend.\n"
          ],
          "name": "stderr"
        },
        {
          "output_type": "display_data",
          "data": {
            "text/html": [
              "<p style=\"color: red;\">\n",
              "The default version of TensorFlow in Colab will soon switch to TensorFlow 2.x.<br>\n",
              "We recommend you <a href=\"https://www.tensorflow.org/guide/migrate\" target=\"_blank\">upgrade</a> now \n",
              "or ensure your notebook will continue to use TensorFlow 1.x via the <code>%tensorflow_version 1.x</code> magic:\n",
              "<a href=\"https://colab.research.google.com/notebooks/tensorflow_version.ipynb\" target=\"_blank\">more info</a>.</p>\n"
            ],
            "text/plain": [
              "<IPython.core.display.HTML object>"
            ]
          },
          "metadata": {
            "tags": []
          }
        }
      ]
    },
    {
      "cell_type": "code",
      "metadata": {
        "id": "pcGQrux294Yk",
        "colab_type": "code",
        "colab": {}
      },
      "source": [
        "# batch, classes, epochs\n",
        "\n",
        "batch_size = 32\n",
        "num_classes = 10\n",
        "epochs = 50"
      ],
      "execution_count": 0,
      "outputs": []
    },
    {
      "cell_type": "code",
      "metadata": {
        "id": "uSYXa_zy-Az6",
        "colab_type": "code",
        "outputId": "1b9be0e7-e354-4038-9642-24bb7f06a861",
        "colab": {
          "base_uri": "https://localhost:8080/",
          "height": 68
        }
      },
      "source": [
        "# The data, split between train and test sets:\n",
        "(x_train, y_train), (x_test, y_test) = cifar10.load_data()\n",
        "print('x_train shape: ', x_train.shape)\n",
        "print(x_train.shape[0], 'train samples')\n",
        "print(x_test.shape[0], 'test samples')"
      ],
      "execution_count": 4,
      "outputs": [
        {
          "output_type": "stream",
          "text": [
            "x_train shape:  (50000, 32, 32, 3)\n",
            "50000 train samples\n",
            "10000 test samples\n"
          ],
          "name": "stdout"
        }
      ]
    },
    {
      "cell_type": "code",
      "metadata": {
        "id": "7NGUxRGr-kry",
        "colab_type": "code",
        "outputId": "d88ad191-7266-44c5-8099-67fcc2f9bc99",
        "colab": {
          "base_uri": "https://localhost:8080/",
          "height": 213
        }
      },
      "source": [
        "# plotting some random 10 images\n",
        "\n",
        "class_names = ['airplane',\n",
        "               'automobile',\n",
        "               'bird',\n",
        "               'cat',\n",
        "               'deer',\n",
        "               'dog',\n",
        "               'frog',\n",
        "               'horse',\n",
        "               'ship',\n",
        "               'truck']\n",
        "               \n",
        "fig = plt.figure(figsize=(8, 3))\n",
        "for i in range(num_classes):\n",
        "  ax = fig.add_subplot(2, 5, 1 + i, xticks=[], yticks=[])\n",
        "  idx = np.where(y_train[:] == i)[0]\n",
        "  feature_idx = x_train[idx, ::]\n",
        "  img_num = np.random.randint(feature_idx.shape[0])\n",
        "  im = (feature_idx[img_num, ::])\n",
        "  ax.set_title(class_names[i])\n",
        "  plt.imshow(im)\n",
        "plt.show()"
      ],
      "execution_count": 5,
      "outputs": [
        {
          "output_type": "display_data",
          "data": {
            "image/png": "[encoded data removed]",
            "text/plain": [
              "<Figure size 576x216 with 10 Axes>"
            ]
          },
          "metadata": {
            "tags": []
          }
        }
      ]
    },
    {
      "cell_type": "code",
      "metadata": {
        "id": "ta8gmjb0_0BS",
        "colab_type": "code",
        "colab": {}
      },
      "source": [
        "# Convert class vectors to binary class metrices.\n",
        "y_train = keras.utils.to_categorical(y_train, num_classes)\n",
        "y_test = keras.utils.to_categorical(y_test, num_classes) "
      ],
      "execution_count": 0,
      "outputs": []
    },
    {
      "cell_type": "code",
      "metadata": {
        "id": "XHhL3UhiAikb",
        "colab_type": "code",
        "outputId": "e8a66a7c-253a-4f8e-bdec-0220c1495742",
        "colab": {
          "base_uri": "https://localhost:8080/",
          "height": 496
        }
      },
      "source": [
        "# model architecture\n",
        "model = Sequential()\n",
        "\n",
        "model.add(Conv2D(32, (3, 3), padding='same', input_shape=x_train.shape[1:]))\n",
        "model.add(Activation('relu'))\n",
        "model.add(BatchNormalization())\n",
        "model.add(Conv2D(32, (3, 3)))\n",
        "model.add(Activation('relu'))\n",
        "model.add(BatchNormalization())\n",
        "model.add(MaxPooling2D(pool_size = (2, 2)))\n",
        "model.add(Dropout(0.25))\n",
        "\n",
        "model.add(Conv2D(64, (3, 3), padding='same'))\n",
        "model.add(Activation('relu'))\n",
        "model.add(BatchNormalization())\n",
        "model.add(Conv2D(64, (3, 3)))\n",
        "model.add(Activation('relu'))\n",
        "model.add(BatchNormalization())\n",
        "model.add(MaxPooling2D(pool_size=(2, 2)))\n",
        "model.add(Dropout(0.25))\n",
        "\n",
        "model.add(Flatten())\n",
        "model.add(Dense(512))\n",
        "model.add(Activation('relu'))\n",
        "model.add(Dropout(0.5))\n",
        "model.add(Dense(num_classes))\n",
        "model.add(Activation('softmax'))"
      ],
      "execution_count": 7,
      "outputs": [
        {
          "output_type": "stream",
          "text": [
            "WARNING:tensorflow:From /usr/local/lib/python3.6/dist-packages/keras/backend/tensorflow_backend.py:66: The name tf.get_default_graph is deprecated. Please use tf.compat.v1.get_default_graph instead.\n",
            "\n",
            "WARNING:tensorflow:From /usr/local/lib/python3.6/dist-packages/keras/backend/tensorflow_backend.py:541: The name tf.placeholder is deprecated. Please use tf.compat.v1.placeholder instead.\n",
            "\n",
            "WARNING:tensorflow:From /usr/local/lib/python3.6/dist-packages/keras/backend/tensorflow_backend.py:4432: The name tf.random_uniform is deprecated. Please use tf.random.uniform instead.\n",
            "\n",
            "WARNING:tensorflow:From /usr/local/lib/python3.6/dist-packages/keras/backend/tensorflow_backend.py:190: The name tf.get_default_session is deprecated. Please use tf.compat.v1.get_default_session instead.\n",
            "\n",
            "WARNING:tensorflow:From /usr/local/lib/python3.6/dist-packages/keras/backend/tensorflow_backend.py:197: The name tf.ConfigProto is deprecated. Please use tf.compat.v1.ConfigProto instead.\n",
            "\n",
            "WARNING:tensorflow:From /usr/local/lib/python3.6/dist-packages/keras/backend/tensorflow_backend.py:203: The name tf.Session is deprecated. Please use tf.compat.v1.Session instead.\n",
            "\n",
            "WARNING:tensorflow:From /usr/local/lib/python3.6/dist-packages/keras/backend/tensorflow_backend.py:207: The name tf.global_variables is deprecated. Please use tf.compat.v1.global_variables instead.\n",
            "\n",
            "WARNING:tensorflow:From /usr/local/lib/python3.6/dist-packages/keras/backend/tensorflow_backend.py:216: The name tf.is_variable_initialized is deprecated. Please use tf.compat.v1.is_variable_initialized instead.\n",
            "\n",
            "WARNING:tensorflow:From /usr/local/lib/python3.6/dist-packages/keras/backend/tensorflow_backend.py:223: The name tf.variables_initializer is deprecated. Please use tf.compat.v1.variables_initializer instead.\n",
            "\n",
            "WARNING:tensorflow:From /usr/local/lib/python3.6/dist-packages/keras/backend/tensorflow_backend.py:2041: The name tf.nn.fused_batch_norm is deprecated. Please use tf.compat.v1.nn.fused_batch_norm instead.\n",
            "\n",
            "WARNING:tensorflow:From /usr/local/lib/python3.6/dist-packages/keras/backend/tensorflow_backend.py:148: The name tf.placeholder_with_default is deprecated. Please use tf.compat.v1.placeholder_with_default instead.\n",
            "\n",
            "WARNING:tensorflow:From /usr/local/lib/python3.6/dist-packages/keras/backend/tensorflow_backend.py:4267: The name tf.nn.max_pool is deprecated. Please use tf.nn.max_pool2d instead.\n",
            "\n",
            "WARNING:tensorflow:From /usr/local/lib/python3.6/dist-packages/keras/backend/tensorflow_backend.py:3733: calling dropout (from tensorflow.python.ops.nn_ops) with keep_prob is deprecated and will be removed in a future version.\n",
            "Instructions for updating:\n",
            "Please use `rate` instead of `keep_prob`. Rate should be set to `rate = 1 - keep_prob`.\n"
          ],
          "name": "stdout"
        }
      ]
    },
    {
      "cell_type": "code",
      "metadata": {
        "id": "hjX0KNvoB1l-",
        "colab_type": "code",
        "outputId": "43c86682-668e-4263-a857-bc9e8acb46d8",
        "colab": {
          "base_uri": "https://localhost:8080/",
          "height": 901
        }
      },
      "source": [
        "#summary\n",
        "model.summary()"
      ],
      "execution_count": 8,
      "outputs": [
        {
          "output_type": "stream",
          "text": [
            "Model: \"sequential_1\"\n",
            "_________________________________________________________________\n",
            "Layer (type)                 Output Shape              Param #   \n",
            "=================================================================\n",
            "conv2d_1 (Conv2D)            (None, 32, 32, 32)        896       \n",
            "_________________________________________________________________\n",
            "activation_1 (Activation)    (None, 32, 32, 32)        0         \n",
            "_________________________________________________________________\n",
            "batch_normalization_1 (Batch (None, 32, 32, 32)        128       \n",
            "_________________________________________________________________\n",
            "conv2d_2 (Conv2D)            (None, 30, 30, 32)        9248      \n",
            "_________________________________________________________________\n",
            "activation_2 (Activation)    (None, 30, 30, 32)        0         \n",
            "_________________________________________________________________\n",
            "batch_normalization_2 (Batch (None, 30, 30, 32)        128       \n",
            "_________________________________________________________________\n",
            "max_pooling2d_1 (MaxPooling2 (None, 15, 15, 32)        0         \n",
            "_________________________________________________________________\n",
            "dropout_1 (Dropout)          (None, 15, 15, 32)        0         \n",
            "_________________________________________________________________\n",
            "conv2d_3 (Conv2D)            (None, 15, 15, 64)        18496     \n",
            "_________________________________________________________________\n",
            "activation_3 (Activation)    (None, 15, 15, 64)        0         \n",
            "_________________________________________________________________\n",
            "batch_normalization_3 (Batch (None, 15, 15, 64)        256       \n",
            "_________________________________________________________________\n",
            "conv2d_4 (Conv2D)            (None, 13, 13, 64)        36928     \n",
            "_________________________________________________________________\n",
            "activation_4 (Activation)    (None, 13, 13, 64)        0         \n",
            "_________________________________________________________________\n",
            "batch_normalization_4 (Batch (None, 13, 13, 64)        256       \n",
            "_________________________________________________________________\n",
            "max_pooling2d_2 (MaxPooling2 (None, 6, 6, 64)          0         \n",
            "_________________________________________________________________\n",
            "dropout_2 (Dropout)          (None, 6, 6, 64)          0         \n",
            "_________________________________________________________________\n",
            "flatten_1 (Flatten)          (None, 2304)              0         \n",
            "_________________________________________________________________\n",
            "dense_1 (Dense)              (None, 512)               1180160   \n",
            "_________________________________________________________________\n",
            "activation_5 (Activation)    (None, 512)               0         \n",
            "_________________________________________________________________\n",
            "dropout_3 (Dropout)          (None, 512)               0         \n",
            "_________________________________________________________________\n",
            "dense_2 (Dense)              (None, 10)                5130      \n",
            "_________________________________________________________________\n",
            "activation_6 (Activation)    (None, 10)                0         \n",
            "=================================================================\n",
            "Total params: 1,251,626\n",
            "Trainable params: 1,251,242\n",
            "Non-trainable params: 384\n",
            "_________________________________________________________________\n"
          ],
          "name": "stdout"
        }
      ]
    },
    {
      "cell_type": "code",
      "metadata": {
        "id": "4kRqKZWyCAml",
        "colab_type": "code",
        "outputId": "95e012c3-86b3-43da-82e9-b13d1d0d0011",
        "colab": {
          "base_uri": "https://localhost:8080/",
          "height": 105
        }
      },
      "source": [
        "# compile the model\n",
        "model.compile(loss = 'categorical_crossentropy',\n",
        "              optimizer = 'sgd',\n",
        "              metrics=['accuracy'])\n",
        "\n",
        "# convert to float, normalize the data\n",
        "x_train = x_train.astype('float32')\n",
        "x_test = x_test.astype('float32')\n",
        "x_train /= 255\n",
        "x_test /= 255"
      ],
      "execution_count": 9,
      "outputs": [
        {
          "output_type": "stream",
          "text": [
            "WARNING:tensorflow:From /usr/local/lib/python3.6/dist-packages/keras/optimizers.py:793: The name tf.train.Optimizer is deprecated. Please use tf.compat.v1.train.Optimizer instead.\n",
            "\n",
            "WARNING:tensorflow:From /usr/local/lib/python3.6/dist-packages/keras/backend/tensorflow_backend.py:3576: The name tf.log is deprecated. Please use tf.math.log instead.\n",
            "\n"
          ],
          "name": "stdout"
        }
      ]
    },
    {
      "cell_type": "code",
      "metadata": {
        "id": "ZlJzuHlzClN1",
        "colab_type": "code",
        "outputId": "2b596c67-1f7f-41d1-9008-0bb96a292426",
        "colab": {
          "base_uri": "https://localhost:8080/",
          "height": 1000
        }
      },
      "source": [
        "# train\n",
        "model.fit(x_train, y_train, \n",
        "          batch_size=batch_size,\n",
        "          epochs=epochs,\n",
        "          validation_data=(x_test, y_test),\n",
        "          shuffle=True)"
      ],
      "execution_count": 10,
      "outputs": [
        {
          "output_type": "stream",
          "text": [
            "WARNING:tensorflow:From /usr/local/lib/python3.6/dist-packages/tensorflow_core/python/ops/math_grad.py:1424: where (from tensorflow.python.ops.array_ops) is deprecated and will be removed in a future version.\n",
            "Instructions for updating:\n",
            "Use tf.where in 2.0, which has the same broadcast rule as np.where\n",
            "WARNING:tensorflow:From /usr/local/lib/python3.6/dist-packages/keras/backend/tensorflow_backend.py:1033: The name tf.assign_add is deprecated. Please use tf.compat.v1.assign_add instead.\n",
            "\n",
            "WARNING:tensorflow:From /usr/local/lib/python3.6/dist-packages/keras/backend/tensorflow_backend.py:1020: The name tf.assign is deprecated. Please use tf.compat.v1.assign instead.\n",
            "\n",
            "Train on 50000 samples, validate on 10000 samples\n",
            "Epoch 1/50\n",
            "50000/50000 [==============================] - 19s 371us/step - loss: 1.7180 - acc: 0.4018 - val_loss: 1.5339 - val_acc: 0.4587\n",
            "Epoch 2/50\n",
            "50000/50000 [==============================] - 16s 328us/step - loss: 1.3247 - acc: 0.5226 - val_loss: 1.1461 - val_acc: 0.5889\n",
            "Epoch 3/50\n",
            "50000/50000 [==============================] - 17s 330us/step - loss: 1.1642 - acc: 0.5846 - val_loss: 1.0588 - val_acc: 0.6221\n",
            "Epoch 4/50\n",
            "50000/50000 [==============================] - 17s 331us/step - loss: 1.0573 - acc: 0.6228 - val_loss: 1.0769 - val_acc: 0.6282\n",
            "Epoch 5/50\n",
            "50000/50000 [==============================] - 16s 329us/step - loss: 0.9869 - acc: 0.6482 - val_loss: 1.0286 - val_acc: 0.6455\n",
            "Epoch 6/50\n",
            "50000/50000 [==============================] - 17s 336us/step - loss: 0.9283 - acc: 0.6691 - val_loss: 0.8186 - val_acc: 0.7087\n",
            "Epoch 7/50\n",
            "50000/50000 [==============================] - 16s 326us/step - loss: 0.8785 - acc: 0.6879 - val_loss: 0.7745 - val_acc: 0.7255\n",
            "Epoch 8/50\n",
            "50000/50000 [==============================] - 16s 327us/step - loss: 0.8395 - acc: 0.7045 - val_loss: 0.7594 - val_acc: 0.7395\n",
            "Epoch 9/50\n",
            "50000/50000 [==============================] - 16s 328us/step - loss: 0.8003 - acc: 0.7150 - val_loss: 0.7427 - val_acc: 0.7381\n",
            "Epoch 10/50\n",
            "50000/50000 [==============================] - 16s 326us/step - loss: 0.7673 - acc: 0.7279 - val_loss: 0.7659 - val_acc: 0.7363\n",
            "Epoch 11/50\n",
            "50000/50000 [==============================] - 16s 329us/step - loss: 0.7437 - acc: 0.7389 - val_loss: 0.6774 - val_acc: 0.7631\n",
            "Epoch 12/50\n",
            "50000/50000 [==============================] - 17s 332us/step - loss: 0.7166 - acc: 0.7448 - val_loss: 0.7108 - val_acc: 0.7515\n",
            "Epoch 13/50\n",
            "50000/50000 [==============================] - 16s 329us/step - loss: 0.6902 - acc: 0.7546 - val_loss: 0.7319 - val_acc: 0.7500\n",
            "Epoch 14/50\n",
            "50000/50000 [==============================] - 16s 328us/step - loss: 0.6754 - acc: 0.7615 - val_loss: 0.6749 - val_acc: 0.7641\n",
            "Epoch 15/50\n",
            "50000/50000 [==============================] - 16s 320us/step - loss: 0.6557 - acc: 0.7689 - val_loss: 0.6617 - val_acc: 0.7681\n",
            "Epoch 16/50\n",
            "50000/50000 [==============================] - 16s 330us/step - loss: 0.6348 - acc: 0.7734 - val_loss: 0.6770 - val_acc: 0.7647\n",
            "Epoch 17/50\n",
            "50000/50000 [==============================] - 16s 319us/step - loss: 0.6205 - acc: 0.7812 - val_loss: 0.6422 - val_acc: 0.7771\n",
            "Epoch 18/50\n",
            "50000/50000 [==============================] - 17s 338us/step - loss: 0.5977 - acc: 0.7874 - val_loss: 0.6606 - val_acc: 0.7721\n",
            "Epoch 19/50\n",
            "50000/50000 [==============================] - 16s 329us/step - loss: 0.5877 - acc: 0.7924 - val_loss: 0.6265 - val_acc: 0.7823\n",
            "Epoch 20/50\n",
            "50000/50000 [==============================] - 16s 328us/step - loss: 0.5696 - acc: 0.7994 - val_loss: 0.6389 - val_acc: 0.7826\n",
            "Epoch 21/50\n",
            "50000/50000 [==============================] - 17s 330us/step - loss: 0.5533 - acc: 0.8045 - val_loss: 0.6617 - val_acc: 0.7717\n",
            "Epoch 22/50\n",
            "50000/50000 [==============================] - 16s 330us/step - loss: 0.5472 - acc: 0.8052 - val_loss: 0.5989 - val_acc: 0.7917\n",
            "Epoch 23/50\n",
            "50000/50000 [==============================] - 16s 324us/step - loss: 0.5307 - acc: 0.8118 - val_loss: 0.6021 - val_acc: 0.7920\n",
            "Epoch 24/50\n",
            "50000/50000 [==============================] - 17s 334us/step - loss: 0.5218 - acc: 0.8161 - val_loss: 0.5852 - val_acc: 0.7978\n",
            "Epoch 25/50\n",
            "50000/50000 [==============================] - 16s 322us/step - loss: 0.5097 - acc: 0.8181 - val_loss: 0.5975 - val_acc: 0.7994\n",
            "Epoch 26/50\n",
            "50000/50000 [==============================] - 16s 314us/step - loss: 0.4966 - acc: 0.8237 - val_loss: 0.5673 - val_acc: 0.8052\n",
            "Epoch 27/50\n",
            "50000/50000 [==============================] - 16s 318us/step - loss: 0.4786 - acc: 0.8309 - val_loss: 0.6193 - val_acc: 0.7919\n",
            "Epoch 28/50\n",
            "50000/50000 [==============================] - 16s 325us/step - loss: 0.4737 - acc: 0.8312 - val_loss: 0.5764 - val_acc: 0.8000\n",
            "Epoch 29/50\n",
            "50000/50000 [==============================] - 16s 313us/step - loss: 0.4623 - acc: 0.8353 - val_loss: 0.5954 - val_acc: 0.7984\n",
            "Epoch 30/50\n",
            "50000/50000 [==============================] - 16s 316us/step - loss: 0.4558 - acc: 0.8387 - val_loss: 0.5542 - val_acc: 0.8120\n",
            "Epoch 31/50\n",
            "50000/50000 [==============================] - 16s 317us/step - loss: 0.4395 - acc: 0.8436 - val_loss: 0.5936 - val_acc: 0.8020\n",
            "Epoch 32/50\n",
            "50000/50000 [==============================] - 16s 314us/step - loss: 0.4321 - acc: 0.8457 - val_loss: 0.5523 - val_acc: 0.8150\n",
            "Epoch 33/50\n",
            "50000/50000 [==============================] - 16s 318us/step - loss: 0.4222 - acc: 0.8503 - val_loss: 0.5543 - val_acc: 0.8159\n",
            "Epoch 34/50\n",
            "50000/50000 [==============================] - 16s 316us/step - loss: 0.4177 - acc: 0.8509 - val_loss: 0.5614 - val_acc: 0.8120\n",
            "Epoch 35/50\n",
            "50000/50000 [==============================] - 16s 313us/step - loss: 0.4030 - acc: 0.8557 - val_loss: 0.5642 - val_acc: 0.8105\n",
            "Epoch 36/50\n",
            "50000/50000 [==============================] - 16s 316us/step - loss: 0.3958 - acc: 0.8568 - val_loss: 0.5502 - val_acc: 0.8152\n",
            "Epoch 37/50\n",
            "50000/50000 [==============================] - 16s 326us/step - loss: 0.3889 - acc: 0.8618 - val_loss: 0.5950 - val_acc: 0.8049\n",
            "Epoch 38/50\n",
            "50000/50000 [==============================] - 15s 308us/step - loss: 0.3770 - acc: 0.8643 - val_loss: 0.5710 - val_acc: 0.8135\n",
            "Epoch 39/50\n",
            "50000/50000 [==============================] - 16s 312us/step - loss: 0.3729 - acc: 0.8666 - val_loss: 0.5465 - val_acc: 0.8183\n",
            "Epoch 40/50\n",
            "50000/50000 [==============================] - 16s 315us/step - loss: 0.3657 - acc: 0.8687 - val_loss: 0.5894 - val_acc: 0.8055\n",
            "Epoch 41/50\n",
            "50000/50000 [==============================] - 16s 319us/step - loss: 0.3563 - acc: 0.8720 - val_loss: 0.5584 - val_acc: 0.8206\n",
            "Epoch 42/50\n",
            "50000/50000 [==============================] - 16s 311us/step - loss: 0.3487 - acc: 0.8740 - val_loss: 0.5655 - val_acc: 0.8151\n",
            "Epoch 43/50\n",
            "50000/50000 [==============================] - 16s 314us/step - loss: 0.3465 - acc: 0.8753 - val_loss: 0.5782 - val_acc: 0.8167\n",
            "Epoch 44/50\n",
            "50000/50000 [==============================] - 16s 311us/step - loss: 0.3353 - acc: 0.8799 - val_loss: 0.5655 - val_acc: 0.8198\n",
            "Epoch 45/50\n",
            "50000/50000 [==============================] - 16s 315us/step - loss: 0.3317 - acc: 0.8816 - val_loss: 0.5477 - val_acc: 0.8209\n",
            "Epoch 46/50\n",
            "50000/50000 [==============================] - 16s 316us/step - loss: 0.3294 - acc: 0.8825 - val_loss: 0.5449 - val_acc: 0.8208\n",
            "Epoch 47/50\n",
            "50000/50000 [==============================] - 16s 313us/step - loss: 0.3187 - acc: 0.8861 - val_loss: 0.5631 - val_acc: 0.8200\n",
            "Epoch 48/50\n",
            "50000/50000 [==============================] - 16s 320us/step - loss: 0.3171 - acc: 0.8868 - val_loss: 0.5675 - val_acc: 0.8203\n",
            "Epoch 49/50\n",
            "50000/50000 [==============================] - 16s 313us/step - loss: 0.3096 - acc: 0.8898 - val_loss: 0.5602 - val_acc: 0.8241\n",
            "Epoch 50/50\n",
            "50000/50000 [==============================] - 16s 315us/step - loss: 0.3014 - acc: 0.8913 - val_loss: 0.5730 - val_acc: 0.8138\n"
          ],
          "name": "stdout"
        },
        {
          "output_type": "execute_result",
          "data": {
            "text/plain": [
              "<keras.callbacks.History at 0x7ff1300b0a20>"
            ]
          },
          "metadata": {
            "tags": []
          },
          "execution_count": 10
        }
      ]
    },
    {
      "cell_type": "code",
      "metadata": {
        "id": "zaiCKCcMCypa",
        "colab_type": "code",
        "colab": {}
      },
      "source": [
        ""
      ],
      "execution_count": 0,
      "outputs": []
    },
    {
      "cell_type": "markdown",
      "metadata": {
        "id": "Q2usf7C1C_6N",
        "colab_type": "text"
      },
      "source": [
        "Result : After 50 epochs, the difference between training and validation accuracy is low but the training is slow as compared to the model with batch normalization.  "
      ]
    }
  ]
}