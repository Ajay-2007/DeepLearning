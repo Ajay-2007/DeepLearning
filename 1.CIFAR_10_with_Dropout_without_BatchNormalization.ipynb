{
  "nbformat": 4,
  "nbformat_minor": 0,
  "metadata": {
    "colab": {
      "name": "CIFAR_10_with_Dropout_without_BatchNormalization.ipynb",
      "provenance": [],
      "collapsed_sections": []
    },
    "kernelspec": {
      "name": "python3",
      "display_name": "Python 3"
    },
    "accelerator": "GPU"
  },
  "cells": [
    {
      "cell_type": "code",
      "metadata": {
        "id": "uT6dUewg9UqP",
        "colab_type": "code",
        "colab": {
          "base_uri": "https://localhost:8080/",
          "height": 80
        },
        "outputId": "3d62d9fb-f99b-4e94-99cc-e0a2403e1d09"
      },
      "source": [
        "# import libraries\n",
        "\n",
        "import keras\n",
        "from keras.datasets import cifar10\n",
        "from keras.preprocessing.image import ImageDataGenerator\n",
        "from keras.models import Sequential\n",
        "from keras.layers import Dense, Dropout, Activation, Flatten\n",
        "from keras.layers import Conv2D, MaxPooling2D\n",
        "import numpy as np\n",
        "import os\n",
        "import matplotlib.pyplot as plt\n",
        "\n",
        "%matplotlib inline"
      ],
      "execution_count": 1,
      "outputs": [
        {
          "output_type": "stream",
          "text": [
            "Using TensorFlow backend.\n"
          ],
          "name": "stderr"
        },
        {
          "output_type": "display_data",
          "data": {
            "text/html": [
              "<p style=\"color: red;\">\n",
              "The default version of TensorFlow in Colab will soon switch to TensorFlow 2.x.<br>\n",
              "We recommend you <a href=\"https://www.tensorflow.org/guide/migrate\" target=\"_blank\">upgrade</a> now \n",
              "or ensure your notebook will continue to use TensorFlow 1.x via the <code>%tensorflow_version 1.x</code> magic:\n",
              "<a href=\"https://colab.research.google.com/notebooks/tensorflow_version.ipynb\" target=\"_blank\">more info</a>.</p>\n"
            ],
            "text/plain": [
              "<IPython.core.display.HTML object>"
            ]
          },
          "metadata": {
            "tags": []
          }
        }
      ]
    },
    {
      "cell_type": "code",
      "metadata": {
        "id": "pcGQrux294Yk",
        "colab_type": "code",
        "colab": {}
      },
      "source": [
        "# batch, classes, epochs\n",
        "\n",
        "batch_size = 32\n",
        "num_classes = 10\n",
        "epochs = 50"
      ],
      "execution_count": 0,
      "outputs": []
    },
    {
      "cell_type": "code",
      "metadata": {
        "id": "uSYXa_zy-Az6",
        "colab_type": "code",
        "colab": {
          "base_uri": "https://localhost:8080/",
          "height": 102
        },
        "outputId": "b0aab77d-fc6a-47b5-a926-881131ef55c4"
      },
      "source": [
        "# The data, split between train and test sets:\n",
        "(x_train, y_train), (x_test, y_test) = cifar10.load_data()\n",
        "print('x_train shape: ', x_train.shape)\n",
        "print(x_train.shape[0], 'train samples')\n",
        "print(x_test.shape[0], 'test samples')"
      ],
      "execution_count": 3,
      "outputs": [
        {
          "output_type": "stream",
          "text": [
            "Downloading data from https://www.cs.toronto.edu/~kriz/cifar-10-python.tar.gz\n",
            "170500096/170498071 [==============================] - 4s 0us/step\n",
            "x_train shape:  (50000, 32, 32, 3)\n",
            "50000 train samples\n",
            "10000 test samples\n"
          ],
          "name": "stdout"
        }
      ]
    },
    {
      "cell_type": "code",
      "metadata": {
        "id": "7NGUxRGr-kry",
        "colab_type": "code",
        "colab": {
          "base_uri": "https://localhost:8080/",
          "height": 213
        },
        "outputId": "d963cfd8-7e7c-4566-9bcc-8d10b5e94ddd"
      },
      "source": [
        "# plotting some random 10 images\n",
        "\n",
        "class_names = ['airplane',\n",
        "               'automobile',\n",
        "               'bird',\n",
        "               'cat',\n",
        "               'deer',\n",
        "               'dog',\n",
        "               'frog',\n",
        "               'horse',\n",
        "               'ship',\n",
        "               'truck']\n",
        "               \n",
        "fig = plt.figure(figsize=(8, 3))\n",
        "for i in range(num_classes):\n",
        "  ax = fig.add_subplot(2, 5, 1 + i, xticks=[], yticks=[])\n",
        "  idx = np.where(y_train[:] == i)[0]\n",
        "  feature_idx = x_train[idx, ::]\n",
        "  img_num = np.random.randint(feature_idx.shape[0])\n",
        "  im = (feature_idx[img_num, ::])\n",
        "  ax.set_title(class_names[i])\n",
        "  plt.imshow(im)\n",
        "plt.show()"
      ],
      "execution_count": 6,
      "outputs": [
        {
          "output_type": "display_data",
          "data": {
            "image/png": "[encoded data removed]",
            "text/plain": [
              "<Figure size 576x216 with 10 Axes>"
            ]
          },
          "metadata": {
            "tags": []
          }
        }
      ]
    },
    {
      "cell_type": "code",
      "metadata": {
        "id": "ta8gmjb0_0BS",
        "colab_type": "code",
        "colab": {}
      },
      "source": [
        "# Convert class vectors to binary class metrices.\n",
        "y_train = keras.utils.to_categorical(y_train, num_classes)\n",
        "y_test = keras.utils.to_categorical(y_test, num_classes) "
      ],
      "execution_count": 0,
      "outputs": []
    },
    {
      "cell_type": "code",
      "metadata": {
        "id": "XHhL3UhiAikb",
        "colab_type": "code",
        "colab": {
          "base_uri": "https://localhost:8080/",
          "height": 258
        },
        "outputId": "63062e7f-4196-459a-abfb-2bd0f7b462b0"
      },
      "source": [
        "# model architecture\n",
        "model = Sequential()\n",
        "\n",
        "model.add(Conv2D(32, (3, 3), padding='same', input_shape=x_train.shape[1:]))\n",
        "model.add(Activation('relu'))\n",
        "model.add(Conv2D(32, (3, 3)))\n",
        "model.add(Activation('relu'))\n",
        "model.add(MaxPooling2D(pool_size = (2, 2)))\n",
        "model.add(Dropout(0.25))\n",
        "\n",
        "model.add(Conv2D(64, (3, 3), padding='same'))\n",
        "model.add(Activation('relu'))\n",
        "model.add(Conv2D(64, (3, 3)))\n",
        "model.add(Activation('relu'))\n",
        "model.add(MaxPooling2D(pool_size=(2, 2)))\n",
        "model.add(Dropout(0.25))\n",
        "\n",
        "model.add(Flatten())\n",
        "model.add(Dense(512))\n",
        "model.add(Activation('relu'))\n",
        "model.add(Dropout(0.5))\n",
        "model.add(Dense(num_classes))\n",
        "model.add(Activation('softmax'))"
      ],
      "execution_count": 8,
      "outputs": [
        {
          "output_type": "stream",
          "text": [
            "WARNING:tensorflow:From /usr/local/lib/python3.6/dist-packages/keras/backend/tensorflow_backend.py:66: The name tf.get_default_graph is deprecated. Please use tf.compat.v1.get_default_graph instead.\n",
            "\n",
            "WARNING:tensorflow:From /usr/local/lib/python3.6/dist-packages/keras/backend/tensorflow_backend.py:541: The name tf.placeholder is deprecated. Please use tf.compat.v1.placeholder instead.\n",
            "\n",
            "WARNING:tensorflow:From /usr/local/lib/python3.6/dist-packages/keras/backend/tensorflow_backend.py:4432: The name tf.random_uniform is deprecated. Please use tf.random.uniform instead.\n",
            "\n",
            "WARNING:tensorflow:From /usr/local/lib/python3.6/dist-packages/keras/backend/tensorflow_backend.py:4267: The name tf.nn.max_pool is deprecated. Please use tf.nn.max_pool2d instead.\n",
            "\n",
            "WARNING:tensorflow:From /usr/local/lib/python3.6/dist-packages/keras/backend/tensorflow_backend.py:148: The name tf.placeholder_with_default is deprecated. Please use tf.compat.v1.placeholder_with_default instead.\n",
            "\n",
            "WARNING:tensorflow:From /usr/local/lib/python3.6/dist-packages/keras/backend/tensorflow_backend.py:3733: calling dropout (from tensorflow.python.ops.nn_ops) with keep_prob is deprecated and will be removed in a future version.\n",
            "Instructions for updating:\n",
            "Please use `rate` instead of `keep_prob`. Rate should be set to `rate = 1 - keep_prob`.\n"
          ],
          "name": "stdout"
        }
      ]
    },
    {
      "cell_type": "code",
      "metadata": {
        "id": "hjX0KNvoB1l-",
        "colab_type": "code",
        "colab": {
          "base_uri": "https://localhost:8080/",
          "height": 765
        },
        "outputId": "b4d73988-341c-4d67-c8b5-bc03a4ea6081"
      },
      "source": [
        "#summary\n",
        "model.summary()"
      ],
      "execution_count": 9,
      "outputs": [
        {
          "output_type": "stream",
          "text": [
            "Model: \"sequential_1\"\n",
            "_________________________________________________________________\n",
            "Layer (type)                 Output Shape              Param #   \n",
            "=================================================================\n",
            "conv2d_1 (Conv2D)            (None, 32, 32, 32)        896       \n",
            "_________________________________________________________________\n",
            "activation_1 (Activation)    (None, 32, 32, 32)        0         \n",
            "_________________________________________________________________\n",
            "conv2d_2 (Conv2D)            (None, 30, 30, 32)        9248      \n",
            "_________________________________________________________________\n",
            "activation_2 (Activation)    (None, 30, 30, 32)        0         \n",
            "_________________________________________________________________\n",
            "max_pooling2d_1 (MaxPooling2 (None, 15, 15, 32)        0         \n",
            "_________________________________________________________________\n",
            "dropout_1 (Dropout)          (None, 15, 15, 32)        0         \n",
            "_________________________________________________________________\n",
            "conv2d_3 (Conv2D)            (None, 15, 15, 64)        18496     \n",
            "_________________________________________________________________\n",
            "activation_3 (Activation)    (None, 15, 15, 64)        0         \n",
            "_________________________________________________________________\n",
            "conv2d_4 (Conv2D)            (None, 13, 13, 64)        36928     \n",
            "_________________________________________________________________\n",
            "activation_4 (Activation)    (None, 13, 13, 64)        0         \n",
            "_________________________________________________________________\n",
            "max_pooling2d_2 (MaxPooling2 (None, 6, 6, 64)          0         \n",
            "_________________________________________________________________\n",
            "dropout_2 (Dropout)          (None, 6, 6, 64)          0         \n",
            "_________________________________________________________________\n",
            "flatten_1 (Flatten)          (None, 2304)              0         \n",
            "_________________________________________________________________\n",
            "dense_1 (Dense)              (None, 512)               1180160   \n",
            "_________________________________________________________________\n",
            "activation_5 (Activation)    (None, 512)               0         \n",
            "_________________________________________________________________\n",
            "dropout_3 (Dropout)          (None, 512)               0         \n",
            "_________________________________________________________________\n",
            "dense_2 (Dense)              (None, 10)                5130      \n",
            "_________________________________________________________________\n",
            "activation_6 (Activation)    (None, 10)                0         \n",
            "=================================================================\n",
            "Total params: 1,250,858\n",
            "Trainable params: 1,250,858\n",
            "Non-trainable params: 0\n",
            "_________________________________________________________________\n"
          ],
          "name": "stdout"
        }
      ]
    },
    {
      "cell_type": "code",
      "metadata": {
        "id": "4kRqKZWyCAml",
        "colab_type": "code",
        "colab": {
          "base_uri": "https://localhost:8080/",
          "height": 105
        },
        "outputId": "36205e8b-0d73-4205-b9d4-506b6576d11d"
      },
      "source": [
        "# compile the model\n",
        "model.compile(loss = 'categorical_crossentropy',\n",
        "              optimizer = 'sgd',\n",
        "              metrics=['accuracy'])\n",
        "\n",
        "# convert to float, normalize the data\n",
        "x_train = x_train.astype('float32')\n",
        "x_test = x_test.astype('float32')\n",
        "x_train /= 255\n",
        "x_test /= 255"
      ],
      "execution_count": 10,
      "outputs": [
        {
          "output_type": "stream",
          "text": [
            "WARNING:tensorflow:From /usr/local/lib/python3.6/dist-packages/keras/optimizers.py:793: The name tf.train.Optimizer is deprecated. Please use tf.compat.v1.train.Optimizer instead.\n",
            "\n",
            "WARNING:tensorflow:From /usr/local/lib/python3.6/dist-packages/keras/backend/tensorflow_backend.py:3576: The name tf.log is deprecated. Please use tf.math.log instead.\n",
            "\n"
          ],
          "name": "stdout"
        }
      ]
    },
    {
      "cell_type": "code",
      "metadata": {
        "id": "ZlJzuHlzClN1",
        "colab_type": "code",
        "colab": {
          "base_uri": "https://localhost:8080/",
          "height": 1000
        },
        "outputId": "891c8294-e1b6-4f2f-c91f-6d1a300bc0af"
      },
      "source": [
        "# train\n",
        "model.fit(x_train, y_train, \n",
        "          batch_size=batch_size,\n",
        "          epochs=epochs,\n",
        "          validation_data=(x_test, y_test),\n",
        "          shuffle=True)"
      ],
      "execution_count": 11,
      "outputs": [
        {
          "output_type": "stream",
          "text": [
            "WARNING:tensorflow:From /usr/local/lib/python3.6/dist-packages/tensorflow_core/python/ops/math_grad.py:1424: where (from tensorflow.python.ops.array_ops) is deprecated and will be removed in a future version.\n",
            "Instructions for updating:\n",
            "Use tf.where in 2.0, which has the same broadcast rule as np.where\n",
            "WARNING:tensorflow:From /usr/local/lib/python3.6/dist-packages/keras/backend/tensorflow_backend.py:1033: The name tf.assign_add is deprecated. Please use tf.compat.v1.assign_add instead.\n",
            "\n",
            "WARNING:tensorflow:From /usr/local/lib/python3.6/dist-packages/keras/backend/tensorflow_backend.py:1020: The name tf.assign is deprecated. Please use tf.compat.v1.assign instead.\n",
            "\n",
            "WARNING:tensorflow:From /usr/local/lib/python3.6/dist-packages/keras/backend/tensorflow_backend.py:3005: The name tf.Session is deprecated. Please use tf.compat.v1.Session instead.\n",
            "\n",
            "Train on 50000 samples, validate on 10000 samples\n",
            "Epoch 1/50\n",
            "WARNING:tensorflow:From /usr/local/lib/python3.6/dist-packages/keras/backend/tensorflow_backend.py:190: The name tf.get_default_session is deprecated. Please use tf.compat.v1.get_default_session instead.\n",
            "\n",
            "WARNING:tensorflow:From /usr/local/lib/python3.6/dist-packages/keras/backend/tensorflow_backend.py:197: The name tf.ConfigProto is deprecated. Please use tf.compat.v1.ConfigProto instead.\n",
            "\n",
            "WARNING:tensorflow:From /usr/local/lib/python3.6/dist-packages/keras/backend/tensorflow_backend.py:207: The name tf.global_variables is deprecated. Please use tf.compat.v1.global_variables instead.\n",
            "\n",
            "WARNING:tensorflow:From /usr/local/lib/python3.6/dist-packages/keras/backend/tensorflow_backend.py:216: The name tf.is_variable_initialized is deprecated. Please use tf.compat.v1.is_variable_initialized instead.\n",
            "\n",
            "WARNING:tensorflow:From /usr/local/lib/python3.6/dist-packages/keras/backend/tensorflow_backend.py:223: The name tf.variables_initializer is deprecated. Please use tf.compat.v1.variables_initializer instead.\n",
            "\n",
            "50000/50000 [==============================] - 27s 534us/step - loss: 2.0793 - acc: 0.2256 - val_loss: 2.0897 - val_acc: 0.2569\n",
            "Epoch 2/50\n",
            "50000/50000 [==============================] - 13s 260us/step - loss: 1.8010 - acc: 0.3483 - val_loss: 1.6145 - val_acc: 0.4221\n",
            "Epoch 3/50\n",
            "50000/50000 [==============================] - 13s 250us/step - loss: 1.6250 - acc: 0.4087 - val_loss: 1.5045 - val_acc: 0.4477\n",
            "Epoch 4/50\n",
            "50000/50000 [==============================] - 12s 243us/step - loss: 1.4952 - acc: 0.4543 - val_loss: 1.3483 - val_acc: 0.5171\n",
            "Epoch 5/50\n",
            "50000/50000 [==============================] - 12s 248us/step - loss: 1.4035 - acc: 0.4899 - val_loss: 1.2739 - val_acc: 0.5429\n",
            "Epoch 6/50\n",
            "50000/50000 [==============================] - 12s 250us/step - loss: 1.3336 - acc: 0.5185 - val_loss: 1.2058 - val_acc: 0.5698\n",
            "Epoch 7/50\n",
            "50000/50000 [==============================] - 13s 251us/step - loss: 1.2688 - acc: 0.5438 - val_loss: 1.1795 - val_acc: 0.5776\n",
            "Epoch 8/50\n",
            "50000/50000 [==============================] - 12s 249us/step - loss: 1.2200 - acc: 0.5614 - val_loss: 1.1317 - val_acc: 0.6028\n",
            "Epoch 9/50\n",
            "50000/50000 [==============================] - 12s 249us/step - loss: 1.1713 - acc: 0.5815 - val_loss: 1.0827 - val_acc: 0.6212\n",
            "Epoch 10/50\n",
            "50000/50000 [==============================] - 12s 244us/step - loss: 1.1278 - acc: 0.5986 - val_loss: 1.0519 - val_acc: 0.6255\n",
            "Epoch 11/50\n",
            "50000/50000 [==============================] - 12s 247us/step - loss: 1.0911 - acc: 0.6125 - val_loss: 1.0377 - val_acc: 0.6358\n",
            "Epoch 12/50\n",
            "50000/50000 [==============================] - 13s 253us/step - loss: 1.0542 - acc: 0.6260 - val_loss: 0.9638 - val_acc: 0.6627\n",
            "Epoch 13/50\n",
            "50000/50000 [==============================] - 12s 247us/step - loss: 1.0161 - acc: 0.6415 - val_loss: 0.9280 - val_acc: 0.6759\n",
            "Epoch 14/50\n",
            "50000/50000 [==============================] - 12s 245us/step - loss: 0.9887 - acc: 0.6505 - val_loss: 0.9347 - val_acc: 0.6695\n",
            "Epoch 15/50\n",
            "50000/50000 [==============================] - 12s 248us/step - loss: 0.9608 - acc: 0.6613 - val_loss: 0.8846 - val_acc: 0.6903\n",
            "Epoch 16/50\n",
            "50000/50000 [==============================] - 12s 249us/step - loss: 0.9299 - acc: 0.6718 - val_loss: 0.8749 - val_acc: 0.6931\n",
            "Epoch 17/50\n",
            "50000/50000 [==============================] - 12s 246us/step - loss: 0.9035 - acc: 0.6822 - val_loss: 0.8446 - val_acc: 0.7077\n",
            "Epoch 18/50\n",
            "50000/50000 [==============================] - 12s 249us/step - loss: 0.8773 - acc: 0.6910 - val_loss: 0.8256 - val_acc: 0.7125\n",
            "Epoch 19/50\n",
            "50000/50000 [==============================] - 13s 253us/step - loss: 0.8559 - acc: 0.6980 - val_loss: 0.8130 - val_acc: 0.7199\n",
            "Epoch 20/50\n",
            "50000/50000 [==============================] - 13s 250us/step - loss: 0.8314 - acc: 0.7065 - val_loss: 0.8152 - val_acc: 0.7133\n",
            "Epoch 21/50\n",
            "50000/50000 [==============================] - 12s 249us/step - loss: 0.8117 - acc: 0.7152 - val_loss: 0.8081 - val_acc: 0.7195\n",
            "Epoch 22/50\n",
            "50000/50000 [==============================] - 13s 254us/step - loss: 0.7956 - acc: 0.7210 - val_loss: 0.8007 - val_acc: 0.7180\n",
            "Epoch 23/50\n",
            "50000/50000 [==============================] - 12s 247us/step - loss: 0.7698 - acc: 0.7266 - val_loss: 0.7462 - val_acc: 0.7414\n",
            "Epoch 24/50\n",
            "50000/50000 [==============================] - 12s 245us/step - loss: 0.7498 - acc: 0.7360 - val_loss: 0.7545 - val_acc: 0.7364\n",
            "Epoch 25/50\n",
            "50000/50000 [==============================] - 12s 249us/step - loss: 0.7323 - acc: 0.7429 - val_loss: 0.7250 - val_acc: 0.7484\n",
            "Epoch 26/50\n",
            "50000/50000 [==============================] - 12s 240us/step - loss: 0.7187 - acc: 0.7464 - val_loss: 0.7099 - val_acc: 0.7503\n",
            "Epoch 27/50\n",
            "50000/50000 [==============================] - 13s 253us/step - loss: 0.6995 - acc: 0.7536 - val_loss: 0.6993 - val_acc: 0.7568\n",
            "Epoch 28/50\n",
            "50000/50000 [==============================] - 13s 250us/step - loss: 0.6856 - acc: 0.7560 - val_loss: 0.6958 - val_acc: 0.7600\n",
            "Epoch 29/50\n",
            "50000/50000 [==============================] - 12s 246us/step - loss: 0.6681 - acc: 0.7642 - val_loss: 0.6660 - val_acc: 0.7673\n",
            "Epoch 30/50\n",
            "50000/50000 [==============================] - 13s 253us/step - loss: 0.6561 - acc: 0.7667 - val_loss: 0.6925 - val_acc: 0.7587\n",
            "Epoch 31/50\n",
            "50000/50000 [==============================] - 13s 250us/step - loss: 0.6400 - acc: 0.7762 - val_loss: 0.6652 - val_acc: 0.7702\n",
            "Epoch 32/50\n",
            "50000/50000 [==============================] - 13s 253us/step - loss: 0.6283 - acc: 0.7771 - val_loss: 0.6772 - val_acc: 0.7665\n",
            "Epoch 33/50\n",
            "50000/50000 [==============================] - 12s 242us/step - loss: 0.6206 - acc: 0.7800 - val_loss: 0.6593 - val_acc: 0.7727\n",
            "Epoch 34/50\n",
            "50000/50000 [==============================] - 12s 243us/step - loss: 0.6047 - acc: 0.7879 - val_loss: 0.6643 - val_acc: 0.7722\n",
            "Epoch 35/50\n",
            "50000/50000 [==============================] - 12s 244us/step - loss: 0.5898 - acc: 0.7930 - val_loss: 0.6427 - val_acc: 0.7792\n",
            "Epoch 36/50\n",
            "50000/50000 [==============================] - 12s 240us/step - loss: 0.5776 - acc: 0.7960 - val_loss: 0.6749 - val_acc: 0.7678\n",
            "Epoch 37/50\n",
            "50000/50000 [==============================] - 12s 245us/step - loss: 0.5717 - acc: 0.7975 - val_loss: 0.6234 - val_acc: 0.7838\n",
            "Epoch 38/50\n",
            "50000/50000 [==============================] - 12s 240us/step - loss: 0.5504 - acc: 0.8031 - val_loss: 0.6360 - val_acc: 0.7819\n",
            "Epoch 39/50\n",
            "50000/50000 [==============================] - 12s 245us/step - loss: 0.5448 - acc: 0.8073 - val_loss: 0.6215 - val_acc: 0.7911\n",
            "Epoch 40/50\n",
            "50000/50000 [==============================] - 12s 244us/step - loss: 0.5319 - acc: 0.8113 - val_loss: 0.6147 - val_acc: 0.7935\n",
            "Epoch 41/50\n",
            "50000/50000 [==============================] - 12s 245us/step - loss: 0.5263 - acc: 0.8125 - val_loss: 0.6232 - val_acc: 0.7895\n",
            "Epoch 42/50\n",
            "50000/50000 [==============================] - 12s 242us/step - loss: 0.5149 - acc: 0.8166 - val_loss: 0.6354 - val_acc: 0.7883\n",
            "Epoch 43/50\n",
            "50000/50000 [==============================] - 12s 247us/step - loss: 0.5084 - acc: 0.8185 - val_loss: 0.6126 - val_acc: 0.7868\n",
            "Epoch 44/50\n",
            "50000/50000 [==============================] - 12s 240us/step - loss: 0.4915 - acc: 0.8243 - val_loss: 0.6159 - val_acc: 0.7909\n",
            "Epoch 45/50\n",
            "50000/50000 [==============================] - 12s 240us/step - loss: 0.4865 - acc: 0.8274 - val_loss: 0.6219 - val_acc: 0.7904\n",
            "Epoch 46/50\n",
            "50000/50000 [==============================] - 12s 239us/step - loss: 0.4771 - acc: 0.8295 - val_loss: 0.6181 - val_acc: 0.7897\n",
            "Epoch 47/50\n",
            "50000/50000 [==============================] - 13s 251us/step - loss: 0.4649 - acc: 0.8350 - val_loss: 0.6017 - val_acc: 0.7952\n",
            "Epoch 48/50\n",
            "50000/50000 [==============================] - 12s 246us/step - loss: 0.4592 - acc: 0.8369 - val_loss: 0.6152 - val_acc: 0.7979\n",
            "Epoch 49/50\n",
            "50000/50000 [==============================] - 12s 246us/step - loss: 0.4484 - acc: 0.8399 - val_loss: 0.5962 - val_acc: 0.7960\n",
            "Epoch 50/50\n",
            "50000/50000 [==============================] - 12s 235us/step - loss: 0.4386 - acc: 0.8439 - val_loss: 0.6511 - val_acc: 0.7848\n"
          ],
          "name": "stdout"
        },
        {
          "output_type": "execute_result",
          "data": {
            "text/plain": [
              "<keras.callbacks.History at 0x7f4cec060da0>"
            ]
          },
          "metadata": {
            "tags": []
          },
          "execution_count": 11
        }
      ]
    },
    {
      "cell_type": "code",
      "metadata": {
        "id": "zaiCKCcMCypa",
        "colab_type": "code",
        "colab": {}
      },
      "source": [
        ""
      ],
      "execution_count": 0,
      "outputs": []
    },
    {
      "cell_type": "markdown",
      "metadata": {
        "id": "Q2usf7C1C_6N",
        "colab_type": "text"
      },
      "source": [
        "Result : After 50 epochs, the difference between training and validation accuracy is low but the training is slow as compared to the model with batch normalization.  "
      ]
    }
  ]
}