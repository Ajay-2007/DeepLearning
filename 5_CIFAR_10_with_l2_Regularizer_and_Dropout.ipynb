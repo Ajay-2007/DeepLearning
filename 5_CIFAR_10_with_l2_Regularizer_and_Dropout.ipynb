{
  "nbformat": 4,
  "nbformat_minor": 0,
  "metadata": {
    "colab": {
      "name": "5.CIFAR_10_with_l2_Regularizer_and_Dropout.ipynb",
      "provenance": [],
      "collapsed_sections": []
    },
    "kernelspec": {
      "name": "python3",
      "display_name": "Python 3"
    },
    "accelerator": "GPU"
  },
  "cells": [
    {
      "cell_type": "code",
      "metadata": {
        "id": "JdfVBe78-6aW",
        "colab_type": "code",
        "colab": {}
      },
      "source": [
        "def warn(*args, **kwargs):\n",
        "    pass\n",
        "import warnings\n",
        "warnings.warn = warn"
      ],
      "execution_count": 0,
      "outputs": []
    },
    {
      "cell_type": "code",
      "metadata": {
        "id": "uT6dUewg9UqP",
        "colab_type": "code",
        "colab": {
          "base_uri": "https://localhost:8080/",
          "height": 80
        },
        "outputId": "bfae236c-e159-4195-cb43-d13f2359ab58"
      },
      "source": [
        "# import libraries\n",
        "\n",
        "import keras\n",
        "from keras.datasets import cifar10\n",
        "from keras.preprocessing.image import ImageDataGenerator\n",
        "from keras.models import Sequential\n",
        "from keras.layers import Dense, Dropout, Activation, Flatten\n",
        "from keras.layers.normalization import BatchNormalization\n",
        "from keras import regularizers\n",
        "from keras.layers import Conv2D, MaxPooling2D\n",
        "import numpy as np\n",
        "import os\n",
        "import matplotlib.pyplot as plt\n",
        "\n",
        "%matplotlib inline"
      ],
      "execution_count": 2,
      "outputs": [
        {
          "output_type": "stream",
          "text": [
            "Using TensorFlow backend.\n"
          ],
          "name": "stderr"
        },
        {
          "output_type": "display_data",
          "data": {
            "text/html": [
              "<p style=\"color: red;\">\n",
              "The default version of TensorFlow in Colab will soon switch to TensorFlow 2.x.<br>\n",
              "We recommend you <a href=\"https://www.tensorflow.org/guide/migrate\" target=\"_blank\">upgrade</a> now \n",
              "or ensure your notebook will continue to use TensorFlow 1.x via the <code>%tensorflow_version 1.x</code> magic:\n",
              "<a href=\"https://colab.research.google.com/notebooks/tensorflow_version.ipynb\" target=\"_blank\">more info</a>.</p>\n"
            ],
            "text/plain": [
              "<IPython.core.display.HTML object>"
            ]
          },
          "metadata": {
            "tags": []
          }
        }
      ]
    },
    {
      "cell_type": "code",
      "metadata": {
        "id": "3c-ZlCpZ9gsE",
        "colab_type": "code",
        "colab": {}
      },
      "source": [
        ""
      ],
      "execution_count": 0,
      "outputs": []
    },
    {
      "cell_type": "code",
      "metadata": {
        "id": "pcGQrux294Yk",
        "colab_type": "code",
        "colab": {}
      },
      "source": [
        "# batch, classes, epochs\n",
        "\n",
        "batch_size = 32\n",
        "num_classes = 10\n",
        "epochs = 50"
      ],
      "execution_count": 0,
      "outputs": []
    },
    {
      "cell_type": "code",
      "metadata": {
        "id": "uSYXa_zy-Az6",
        "colab_type": "code",
        "outputId": "46d9446b-028c-41a3-feff-53c3d9c598ed",
        "colab": {
          "base_uri": "https://localhost:8080/",
          "height": 102
        }
      },
      "source": [
        "# The data, split between train and test sets:\n",
        "(x_train, y_train), (x_test, y_test) = cifar10.load_data()\n",
        "print('x_train shape: ', x_train.shape)\n",
        "print(x_train.shape[0], 'train samples')\n",
        "print(x_test.shape[0], 'test samples')"
      ],
      "execution_count": 4,
      "outputs": [
        {
          "output_type": "stream",
          "text": [
            "Downloading data from https://www.cs.toronto.edu/~kriz/cifar-10-python.tar.gz\n",
            "170500096/170498071 [==============================] - 6s 0us/step\n",
            "x_train shape:  (50000, 32, 32, 3)\n",
            "50000 train samples\n",
            "10000 test samples\n"
          ],
          "name": "stdout"
        }
      ]
    },
    {
      "cell_type": "code",
      "metadata": {
        "id": "7NGUxRGr-kry",
        "colab_type": "code",
        "outputId": "8b20c4cb-86bd-4f91-b23c-8bd5ca894254",
        "colab": {
          "base_uri": "https://localhost:8080/",
          "height": 213
        }
      },
      "source": [
        "# plotting some random 10 images\n",
        "\n",
        "class_names = ['airplane',\n",
        "               'automobile',\n",
        "               'bird',\n",
        "               'cat',\n",
        "               'deer',\n",
        "               'dog',\n",
        "               'frog',\n",
        "               'horse',\n",
        "               'ship',\n",
        "               'truck']\n",
        "               \n",
        "fig = plt.figure(figsize=(8, 3))\n",
        "for i in range(num_classes):\n",
        "  ax = fig.add_subplot(2, 5, 1 + i, xticks=[], yticks=[])\n",
        "  idx = np.where(y_train[:] == i)[0]\n",
        "  feature_idx = x_train[idx, ::]\n",
        "  img_num = np.random.randint(feature_idx.shape[0])\n",
        "  im = (feature_idx[img_num, ::])\n",
        "  ax.set_title(class_names[i])\n",
        "  plt.imshow(im)\n",
        "plt.show()"
      ],
      "execution_count": 5,
      "outputs": [
        {
          "output_type": "display_data",
          "data": {
            "image/png": "[encoded data removed]",
            "text/plain": [
              "<Figure size 576x216 with 10 Axes>"
            ]
          },
          "metadata": {
            "tags": []
          }
        }
      ]
    },
    {
      "cell_type": "code",
      "metadata": {
        "id": "ta8gmjb0_0BS",
        "colab_type": "code",
        "colab": {}
      },
      "source": [
        "# Convert class vectors to binary class metrices.\n",
        "y_train = keras.utils.to_categorical(y_train, num_classes)\n",
        "y_test = keras.utils.to_categorical(y_test, num_classes) "
      ],
      "execution_count": 0,
      "outputs": []
    },
    {
      "cell_type": "code",
      "metadata": {
        "id": "XHhL3UhiAikb",
        "colab_type": "code",
        "colab": {
          "base_uri": "https://localhost:8080/",
          "height": 496
        },
        "outputId": "74fef20a-db42-44db-c6c8-54d7e6b42f67"
      },
      "source": [
        "# model architecture\n",
        "model = Sequential()\n",
        "\n",
        "model.add(Conv2D(32, (3, 3), padding='same', input_shape=x_train.shape[1:]))\n",
        "model.add(Activation('relu'))\n",
        "model.add(BatchNormalization())\n",
        "model.add(Conv2D(32, (3, 3)))\n",
        "model.add(Activation('relu'))\n",
        "model.add(BatchNormalization())\n",
        "model.add(MaxPooling2D(pool_size = (2, 2)))\n",
        "model.add(Dropout(0.25))\n",
        "\n",
        "model.add(Conv2D(64, (3, 3), padding='same'))\n",
        "model.add(Activation('relu'))\n",
        "model.add(BatchNormalization())\n",
        "model.add(Conv2D(64, (3, 3)))\n",
        "model.add(Activation('relu'))\n",
        "model.add(BatchNormalization())\n",
        "model.add(MaxPooling2D(pool_size=(2, 2)))\n",
        "model.add(Dropout(0.25))\n",
        "\n",
        "model.add(Flatten())\n",
        "model.add(Dense(512, kernel_regularizer=regularizers.l2(0.01)))\n",
        "model.add(Activation('relu'))\n",
        "model.add(Dropout(0.5))\n",
        "model.add(Dense(num_classes))\n",
        "model.add(Activation('softmax'))"
      ],
      "execution_count": 7,
      "outputs": [
        {
          "output_type": "stream",
          "text": [
            "WARNING:tensorflow:From /usr/local/lib/python3.6/dist-packages/keras/backend/tensorflow_backend.py:66: The name tf.get_default_graph is deprecated. Please use tf.compat.v1.get_default_graph instead.\n",
            "\n",
            "WARNING:tensorflow:From /usr/local/lib/python3.6/dist-packages/keras/backend/tensorflow_backend.py:541: The name tf.placeholder is deprecated. Please use tf.compat.v1.placeholder instead.\n",
            "\n",
            "WARNING:tensorflow:From /usr/local/lib/python3.6/dist-packages/keras/backend/tensorflow_backend.py:4432: The name tf.random_uniform is deprecated. Please use tf.random.uniform instead.\n",
            "\n",
            "WARNING:tensorflow:From /usr/local/lib/python3.6/dist-packages/keras/backend/tensorflow_backend.py:190: The name tf.get_default_session is deprecated. Please use tf.compat.v1.get_default_session instead.\n",
            "\n",
            "WARNING:tensorflow:From /usr/local/lib/python3.6/dist-packages/keras/backend/tensorflow_backend.py:197: The name tf.ConfigProto is deprecated. Please use tf.compat.v1.ConfigProto instead.\n",
            "\n",
            "WARNING:tensorflow:From /usr/local/lib/python3.6/dist-packages/keras/backend/tensorflow_backend.py:203: The name tf.Session is deprecated. Please use tf.compat.v1.Session instead.\n",
            "\n",
            "WARNING:tensorflow:From /usr/local/lib/python3.6/dist-packages/keras/backend/tensorflow_backend.py:207: The name tf.global_variables is deprecated. Please use tf.compat.v1.global_variables instead.\n",
            "\n",
            "WARNING:tensorflow:From /usr/local/lib/python3.6/dist-packages/keras/backend/tensorflow_backend.py:216: The name tf.is_variable_initialized is deprecated. Please use tf.compat.v1.is_variable_initialized instead.\n",
            "\n",
            "WARNING:tensorflow:From /usr/local/lib/python3.6/dist-packages/keras/backend/tensorflow_backend.py:223: The name tf.variables_initializer is deprecated. Please use tf.compat.v1.variables_initializer instead.\n",
            "\n",
            "WARNING:tensorflow:From /usr/local/lib/python3.6/dist-packages/keras/backend/tensorflow_backend.py:2041: The name tf.nn.fused_batch_norm is deprecated. Please use tf.compat.v1.nn.fused_batch_norm instead.\n",
            "\n",
            "WARNING:tensorflow:From /usr/local/lib/python3.6/dist-packages/keras/backend/tensorflow_backend.py:148: The name tf.placeholder_with_default is deprecated. Please use tf.compat.v1.placeholder_with_default instead.\n",
            "\n",
            "WARNING:tensorflow:From /usr/local/lib/python3.6/dist-packages/keras/backend/tensorflow_backend.py:4267: The name tf.nn.max_pool is deprecated. Please use tf.nn.max_pool2d instead.\n",
            "\n",
            "WARNING:tensorflow:From /usr/local/lib/python3.6/dist-packages/keras/backend/tensorflow_backend.py:3733: calling dropout (from tensorflow.python.ops.nn_ops) with keep_prob is deprecated and will be removed in a future version.\n",
            "Instructions for updating:\n",
            "Please use `rate` instead of `keep_prob`. Rate should be set to `rate = 1 - keep_prob`.\n"
          ],
          "name": "stdout"
        }
      ]
    },
    {
      "cell_type": "code",
      "metadata": {
        "id": "hjX0KNvoB1l-",
        "colab_type": "code",
        "outputId": "f9c5a51e-5178-47d7-85b7-794e7f7717d0",
        "colab": {
          "base_uri": "https://localhost:8080/",
          "height": 901
        }
      },
      "source": [
        "#summary\n",
        "model.summary()"
      ],
      "execution_count": 8,
      "outputs": [
        {
          "output_type": "stream",
          "text": [
            "Model: \"sequential_1\"\n",
            "_________________________________________________________________\n",
            "Layer (type)                 Output Shape              Param #   \n",
            "=================================================================\n",
            "conv2d_1 (Conv2D)            (None, 32, 32, 32)        896       \n",
            "_________________________________________________________________\n",
            "activation_1 (Activation)    (None, 32, 32, 32)        0         \n",
            "_________________________________________________________________\n",
            "batch_normalization_1 (Batch (None, 32, 32, 32)        128       \n",
            "_________________________________________________________________\n",
            "conv2d_2 (Conv2D)            (None, 30, 30, 32)        9248      \n",
            "_________________________________________________________________\n",
            "activation_2 (Activation)    (None, 30, 30, 32)        0         \n",
            "_________________________________________________________________\n",
            "batch_normalization_2 (Batch (None, 30, 30, 32)        128       \n",
            "_________________________________________________________________\n",
            "max_pooling2d_1 (MaxPooling2 (None, 15, 15, 32)        0         \n",
            "_________________________________________________________________\n",
            "dropout_1 (Dropout)          (None, 15, 15, 32)        0         \n",
            "_________________________________________________________________\n",
            "conv2d_3 (Conv2D)            (None, 15, 15, 64)        18496     \n",
            "_________________________________________________________________\n",
            "activation_3 (Activation)    (None, 15, 15, 64)        0         \n",
            "_________________________________________________________________\n",
            "batch_normalization_3 (Batch (None, 15, 15, 64)        256       \n",
            "_________________________________________________________________\n",
            "conv2d_4 (Conv2D)            (None, 13, 13, 64)        36928     \n",
            "_________________________________________________________________\n",
            "activation_4 (Activation)    (None, 13, 13, 64)        0         \n",
            "_________________________________________________________________\n",
            "batch_normalization_4 (Batch (None, 13, 13, 64)        256       \n",
            "_________________________________________________________________\n",
            "max_pooling2d_2 (MaxPooling2 (None, 6, 6, 64)          0         \n",
            "_________________________________________________________________\n",
            "dropout_2 (Dropout)          (None, 6, 6, 64)          0         \n",
            "_________________________________________________________________\n",
            "flatten_1 (Flatten)          (None, 2304)              0         \n",
            "_________________________________________________________________\n",
            "dense_1 (Dense)              (None, 512)               1180160   \n",
            "_________________________________________________________________\n",
            "activation_5 (Activation)    (None, 512)               0         \n",
            "_________________________________________________________________\n",
            "dropout_3 (Dropout)          (None, 512)               0         \n",
            "_________________________________________________________________\n",
            "dense_2 (Dense)              (None, 10)                5130      \n",
            "_________________________________________________________________\n",
            "activation_6 (Activation)    (None, 10)                0         \n",
            "=================================================================\n",
            "Total params: 1,251,626\n",
            "Trainable params: 1,251,242\n",
            "Non-trainable params: 384\n",
            "_________________________________________________________________\n"
          ],
          "name": "stdout"
        }
      ]
    },
    {
      "cell_type": "code",
      "metadata": {
        "id": "4kRqKZWyCAml",
        "colab_type": "code",
        "outputId": "231fab0f-a5a4-47db-a802-3aeba806b414",
        "colab": {
          "base_uri": "https://localhost:8080/",
          "height": 105
        }
      },
      "source": [
        "# compile the model\n",
        "model.compile(loss = 'categorical_crossentropy',\n",
        "              optimizer = 'sgd',\n",
        "              metrics=['accuracy'])\n",
        "\n",
        "# convert to float, normalize the data\n",
        "x_train = x_train.astype('float32')\n",
        "x_test = x_test.astype('float32')\n",
        "x_train /= 255\n",
        "x_test /= 255"
      ],
      "execution_count": 9,
      "outputs": [
        {
          "output_type": "stream",
          "text": [
            "WARNING:tensorflow:From /usr/local/lib/python3.6/dist-packages/keras/optimizers.py:793: The name tf.train.Optimizer is deprecated. Please use tf.compat.v1.train.Optimizer instead.\n",
            "\n",
            "WARNING:tensorflow:From /usr/local/lib/python3.6/dist-packages/keras/backend/tensorflow_backend.py:3576: The name tf.log is deprecated. Please use tf.math.log instead.\n",
            "\n"
          ],
          "name": "stdout"
        }
      ]
    },
    {
      "cell_type": "code",
      "metadata": {
        "id": "ZlJzuHlzClN1",
        "colab_type": "code",
        "outputId": "1b51ff29-a0c5-4f65-e9f3-7a231036b1b8",
        "colab": {
          "base_uri": "https://localhost:8080/",
          "height": 1000
        }
      },
      "source": [
        "# train\n",
        "model.fit(x_train, y_train, \n",
        "          batch_size=batch_size,\n",
        "          epochs=epochs,\n",
        "          validation_data=(x_test, y_test),\n",
        "          shuffle=True)"
      ],
      "execution_count": 10,
      "outputs": [
        {
          "output_type": "stream",
          "text": [
            "WARNING:tensorflow:From /usr/local/lib/python3.6/dist-packages/tensorflow_core/python/ops/math_grad.py:1424: where (from tensorflow.python.ops.array_ops) is deprecated and will be removed in a future version.\n",
            "Instructions for updating:\n",
            "Use tf.where in 2.0, which has the same broadcast rule as np.where\n",
            "WARNING:tensorflow:From /usr/local/lib/python3.6/dist-packages/keras/backend/tensorflow_backend.py:1033: The name tf.assign_add is deprecated. Please use tf.compat.v1.assign_add instead.\n",
            "\n",
            "WARNING:tensorflow:From /usr/local/lib/python3.6/dist-packages/keras/backend/tensorflow_backend.py:1020: The name tf.assign is deprecated. Please use tf.compat.v1.assign instead.\n",
            "\n",
            "Train on 50000 samples, validate on 10000 samples\n",
            "Epoch 1/50\n",
            "50000/50000 [==============================] - 23s 467us/step - loss: 7.9216 - acc: 0.4154 - val_loss: 5.8192 - val_acc: 0.5249\n",
            "Epoch 2/50\n",
            "50000/50000 [==============================] - 16s 322us/step - loss: 4.6328 - acc: 0.5524 - val_loss: 3.5595 - val_acc: 0.6053\n",
            "Epoch 3/50\n",
            "50000/50000 [==============================] - 16s 322us/step - loss: 2.9364 - acc: 0.6142 - val_loss: 2.3332 - val_acc: 0.6597\n",
            "Epoch 4/50\n",
            "50000/50000 [==============================] - 16s 322us/step - loss: 2.0101 - acc: 0.6617 - val_loss: 1.6754 - val_acc: 0.6904\n",
            "Epoch 5/50\n",
            "50000/50000 [==============================] - 16s 319us/step - loss: 1.5051 - acc: 0.6938 - val_loss: 1.3517 - val_acc: 0.7017\n",
            "Epoch 6/50\n",
            "50000/50000 [==============================] - 16s 318us/step - loss: 1.2211 - acc: 0.7181 - val_loss: 1.1429 - val_acc: 0.7171\n",
            "Epoch 7/50\n",
            "50000/50000 [==============================] - 16s 318us/step - loss: 1.0667 - acc: 0.7331 - val_loss: 1.0436 - val_acc: 0.7360\n",
            "Epoch 8/50\n",
            "50000/50000 [==============================] - 16s 316us/step - loss: 0.9743 - acc: 0.7483 - val_loss: 0.9172 - val_acc: 0.7656\n",
            "Epoch 9/50\n",
            "50000/50000 [==============================] - 16s 322us/step - loss: 0.9182 - acc: 0.7601 - val_loss: 1.0026 - val_acc: 0.7307\n",
            "Epoch 10/50\n",
            "50000/50000 [==============================] - 16s 316us/step - loss: 0.8870 - acc: 0.7695 - val_loss: 0.8795 - val_acc: 0.7720\n",
            "Epoch 11/50\n",
            "50000/50000 [==============================] - 16s 316us/step - loss: 0.8630 - acc: 0.7784 - val_loss: 0.9205 - val_acc: 0.7562\n",
            "Epoch 12/50\n",
            "50000/50000 [==============================] - 16s 317us/step - loss: 0.8452 - acc: 0.7852 - val_loss: 0.8843 - val_acc: 0.7730\n",
            "Epoch 13/50\n",
            "50000/50000 [==============================] - 16s 315us/step - loss: 0.8334 - acc: 0.7922 - val_loss: 0.8930 - val_acc: 0.7736\n",
            "Epoch 14/50\n",
            "50000/50000 [==============================] - 16s 313us/step - loss: 0.8269 - acc: 0.7962 - val_loss: 0.9258 - val_acc: 0.7739\n",
            "Epoch 15/50\n",
            "50000/50000 [==============================] - 16s 317us/step - loss: 0.8229 - acc: 0.8024 - val_loss: 1.1464 - val_acc: 0.7102\n",
            "Epoch 16/50\n",
            "50000/50000 [==============================] - 16s 321us/step - loss: 0.8140 - acc: 0.8081 - val_loss: 0.8783 - val_acc: 0.7942\n",
            "Epoch 17/50\n",
            "50000/50000 [==============================] - 16s 315us/step - loss: 0.8174 - acc: 0.8115 - val_loss: 0.9301 - val_acc: 0.7825\n",
            "Epoch 18/50\n",
            "50000/50000 [==============================] - 16s 318us/step - loss: 0.8104 - acc: 0.8164 - val_loss: 0.8557 - val_acc: 0.8069\n",
            "Epoch 19/50\n",
            "50000/50000 [==============================] - 16s 322us/step - loss: 0.8127 - acc: 0.8178 - val_loss: 0.8690 - val_acc: 0.8072\n",
            "Epoch 20/50\n",
            "50000/50000 [==============================] - 16s 315us/step - loss: 0.8131 - acc: 0.8223 - val_loss: 0.8892 - val_acc: 0.8033\n",
            "Epoch 21/50\n",
            "50000/50000 [==============================] - 16s 316us/step - loss: 0.8050 - acc: 0.8266 - val_loss: 0.8766 - val_acc: 0.8133\n",
            "Epoch 22/50\n",
            "50000/50000 [==============================] - 16s 317us/step - loss: 0.8041 - acc: 0.8288 - val_loss: 0.9332 - val_acc: 0.7940\n",
            "Epoch 23/50\n",
            "50000/50000 [==============================] - 16s 321us/step - loss: 0.8097 - acc: 0.8285 - val_loss: 0.9241 - val_acc: 0.8001\n",
            "Epoch 24/50\n",
            "50000/50000 [==============================] - 16s 316us/step - loss: 0.8035 - acc: 0.8332 - val_loss: 0.8902 - val_acc: 0.8146\n",
            "Epoch 25/50\n",
            "50000/50000 [==============================] - 16s 319us/step - loss: 0.8014 - acc: 0.8349 - val_loss: 0.9245 - val_acc: 0.8051\n",
            "Epoch 26/50\n",
            "50000/50000 [==============================] - 16s 315us/step - loss: 0.7987 - acc: 0.8377 - val_loss: 0.9299 - val_acc: 0.8026\n",
            "Epoch 27/50\n",
            "50000/50000 [==============================] - 16s 316us/step - loss: 0.8043 - acc: 0.8395 - val_loss: 0.9254 - val_acc: 0.8051\n",
            "Epoch 28/50\n",
            "50000/50000 [==============================] - 16s 321us/step - loss: 0.7982 - acc: 0.8416 - val_loss: 0.8834 - val_acc: 0.8211\n",
            "Epoch 29/50\n",
            "50000/50000 [==============================] - 16s 319us/step - loss: 0.8002 - acc: 0.8435 - val_loss: 0.8919 - val_acc: 0.8201\n",
            "Epoch 30/50\n",
            "50000/50000 [==============================] - 16s 316us/step - loss: 0.7979 - acc: 0.8447 - val_loss: 0.9005 - val_acc: 0.8176\n",
            "Epoch 31/50\n",
            "50000/50000 [==============================] - 16s 312us/step - loss: 0.7895 - acc: 0.8504 - val_loss: 0.9173 - val_acc: 0.8142\n",
            "Epoch 32/50\n",
            "50000/50000 [==============================] - 16s 318us/step - loss: 0.7971 - acc: 0.8476 - val_loss: 0.8850 - val_acc: 0.8261\n",
            "Epoch 33/50\n",
            "50000/50000 [==============================] - 16s 316us/step - loss: 0.7947 - acc: 0.8517 - val_loss: 0.9142 - val_acc: 0.8200\n",
            "Epoch 34/50\n",
            "50000/50000 [==============================] - 16s 315us/step - loss: 0.7904 - acc: 0.8523 - val_loss: 0.8952 - val_acc: 0.8258\n",
            "Epoch 35/50\n",
            "50000/50000 [==============================] - 16s 315us/step - loss: 0.7902 - acc: 0.8533 - val_loss: 0.9404 - val_acc: 0.8130\n",
            "Epoch 36/50\n",
            "50000/50000 [==============================] - 16s 317us/step - loss: 0.7893 - acc: 0.8554 - val_loss: 0.9071 - val_acc: 0.8248\n",
            "Epoch 37/50\n",
            "50000/50000 [==============================] - 16s 313us/step - loss: 0.7968 - acc: 0.8530 - val_loss: 0.9323 - val_acc: 0.8172\n",
            "Epoch 38/50\n",
            "50000/50000 [==============================] - 16s 317us/step - loss: 0.7930 - acc: 0.8566 - val_loss: 0.9008 - val_acc: 0.8278\n",
            "Epoch 39/50\n",
            "50000/50000 [==============================] - 16s 319us/step - loss: 0.7919 - acc: 0.8560 - val_loss: 0.9095 - val_acc: 0.8263\n",
            "Epoch 40/50\n",
            "50000/50000 [==============================] - 16s 317us/step - loss: 0.7942 - acc: 0.8560 - val_loss: 0.9324 - val_acc: 0.8225\n",
            "Epoch 41/50\n",
            "50000/50000 [==============================] - 16s 316us/step - loss: 0.7887 - acc: 0.8598 - val_loss: 0.9201 - val_acc: 0.8259\n",
            "Epoch 42/50\n",
            "50000/50000 [==============================] - 16s 313us/step - loss: 0.7891 - acc: 0.8581 - val_loss: 0.8986 - val_acc: 0.8326\n",
            "Epoch 43/50\n",
            "50000/50000 [==============================] - 16s 316us/step - loss: 0.7875 - acc: 0.8599 - val_loss: 0.9200 - val_acc: 0.8252\n",
            "Epoch 44/50\n",
            "50000/50000 [==============================] - 16s 318us/step - loss: 0.7869 - acc: 0.8620 - val_loss: 0.9168 - val_acc: 0.8282\n",
            "Epoch 45/50\n",
            "50000/50000 [==============================] - 16s 316us/step - loss: 0.7912 - acc: 0.8606 - val_loss: 0.9026 - val_acc: 0.8334\n",
            "Epoch 46/50\n",
            "50000/50000 [==============================] - 16s 315us/step - loss: 0.7879 - acc: 0.8617 - val_loss: 0.9365 - val_acc: 0.8177\n",
            "Epoch 47/50\n",
            "50000/50000 [==============================] - 16s 316us/step - loss: 0.7874 - acc: 0.8627 - val_loss: 0.9372 - val_acc: 0.8236\n",
            "Epoch 48/50\n",
            "50000/50000 [==============================] - 16s 321us/step - loss: 0.7833 - acc: 0.8633 - val_loss: 0.9509 - val_acc: 0.8228\n",
            "Epoch 49/50\n",
            "50000/50000 [==============================] - 16s 315us/step - loss: 0.7840 - acc: 0.8665 - val_loss: 0.9281 - val_acc: 0.8287\n",
            "Epoch 50/50\n",
            "50000/50000 [==============================] - 16s 314us/step - loss: 0.7790 - acc: 0.8666 - val_loss: 0.9070 - val_acc: 0.8327\n"
          ],
          "name": "stdout"
        },
        {
          "output_type": "execute_result",
          "data": {
            "text/plain": [
              "<keras.callbacks.History at 0x7fe4fc3d4d68>"
            ]
          },
          "metadata": {
            "tags": []
          },
          "execution_count": 10
        }
      ]
    },
    {
      "cell_type": "code",
      "metadata": {
        "id": "zaiCKCcMCypa",
        "colab_type": "code",
        "colab": {}
      },
      "source": [
        ""
      ],
      "execution_count": 0,
      "outputs": []
    },
    {
      "cell_type": "markdown",
      "metadata": {
        "id": "Q2usf7C1C_6N",
        "colab_type": "text"
      },
      "source": [
        "Result : After 50 epochs, the difference between training and validation accuracy is low but the training is slow as compared to the model with batch normalization.  "
      ]
    }
  ]
}